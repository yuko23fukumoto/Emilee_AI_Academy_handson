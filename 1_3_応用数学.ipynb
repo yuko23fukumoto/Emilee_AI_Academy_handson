{
  "nbformat": 4,
  "nbformat_minor": 0,
  "metadata": {
    "kernelspec": {
      "display_name": "Python 3",
      "language": "python",
      "name": "python3"
    },
    "language_info": {
      "codemirror_mode": {
        "name": "ipython",
        "version": 3
      },
      "file_extension": ".py",
      "mimetype": "text/x-python",
      "name": "python",
      "nbconvert_exporter": "python",
      "pygments_lexer": "ipython3",
      "version": "3.8.8"
    },
    "colab": {
      "name": "1_3_応用数学.ipynb",
      "provenance": [],
      "toc_visible": true,
      "include_colab_link": true
    }
  },
  "cells": [
    {
      "cell_type": "markdown",
      "metadata": {
        "id": "view-in-github",
        "colab_type": "text"
      },
      "source": [
        "<a href=\"https://colab.research.google.com/github/yuko23fukumoto/Emilee_AI_Academy_handson/blob/master/1_3_%E5%BF%9C%E7%94%A8%E6%95%B0%E5%AD%A6.ipynb\" target=\"_parent\"><img src=\"https://colab.research.google.com/assets/colab-badge.svg\" alt=\"Open In Colab\"/></a>"
      ]
    },
    {
      "cell_type": "markdown",
      "metadata": {
        "id": "GbCG1-ZbNoAM"
      },
      "source": [
        "### 行列、固有値分解、特異値分解"
      ]
    },
    {
      "cell_type": "markdown",
      "metadata": {
        "id": "0-SE5dAyNoAS"
      },
      "source": [
        "行列種類\n",
        "<img src=\"img/行列種類.jpg\" width=60%/>"
      ]
    },
    {
      "cell_type": "markdown",
      "metadata": {
        "id": "rGXmtZ3FNoAU"
      },
      "source": [
        "単位行列 \\\n",
        "単位行列はその対角成分に 1 が並び、他は全て 0 となる。\n",
        "$$\n",
        "\\begin{align}\n",
        "E &= \\left(\n",
        "    \\begin{array}{ccc}\n",
        "      1 & 0 & 0 \\\\\n",
        "      0 & 1 & 0 \\\\\n",
        "      0 & 0 & 1 \\\\\n",
        "    \\end{array}\n",
        "  \\right) \\\\\n",
        "\\end{align}\n",
        "$$\n",
        "\n",
        "行列Aと単位行列Eの積はAとなる。 \\\n",
        "AE=A\n",
        "\n",
        "$$\n",
        "\\begin{align}\n",
        "\\left(\n",
        "    \\begin{array}{ccc}\n",
        "      1 & 2 & 3 \\\\\n",
        "      2 & 2 & 3 \\\\\n",
        "      4 & 5 & 6 \\\\\n",
        "    \\end{array}\n",
        "  \\right) \n",
        "\\left(\n",
        "    \\begin{array}{ccc}\n",
        "      1 & 0 & 0 \\\\\n",
        "      0 & 1 & 0 \\\\\n",
        "      0 & 0 & 1 \\\\\n",
        "    \\end{array}\n",
        "  \\right)  =\n",
        "\\left(\n",
        "    \\begin{array}{ccc}\n",
        "      1 & 2 & 3 \\\\\n",
        "      2 & 2 & 3 \\\\\n",
        "      4 & 5 & 6 \\\\\n",
        "    \\end{array}\n",
        "  \\right) \n",
        "\\end{align}\n",
        "$$"
      ]
    },
    {
      "cell_type": "markdown",
      "metadata": {
        "id": "sauogxvtNoAX"
      },
      "source": [
        "**行列の計算** \\\n",
        "行列の和\n",
        "$$\n",
        "\\left[\\begin{array}{c}\n",
        "    a&b \\\\\n",
        "    c&d \\\\\n",
        "\\end{array}\\right] \\quad\n",
        "+\n",
        "\\left[\\begin{array}{c}\n",
        "    e&f \\\\\n",
        "    g&h \\\\\n",
        "\\end{array}\\right] \\quad\n",
        "=\n",
        "\\left[\\begin{array}{c}\n",
        "    a+e&b+f \\\\\n",
        "    c+g&d+h \\\\\n",
        "\\end{array}\\right] \\quad\n",
        "$$\n",
        "\n",
        "行列の差\n",
        "$$\n",
        "\\left[\\begin{array}{c}\n",
        "    a&b \\\\\n",
        "    c&d \\\\\n",
        "\\end{array}\\right] \\quad\n",
        "-\n",
        "\\left[\\begin{array}{c}\n",
        "    e&f \\\\\n",
        "    g&h \\\\\n",
        "\\end{array}\\right] \\quad\n",
        "=\n",
        "\\left[\\begin{array}{c}\n",
        "    a-e&b-f \\\\\n",
        "    c-g&d-h \\\\\n",
        "\\end{array}\\right] \\quad\n",
        "$$\n",
        "\n",
        "数値と行列の積\n",
        "$$\n",
        "a*\n",
        "\\left[\\begin{array}{c}\n",
        "    x_{11}&x_{12} \\\\\n",
        "    x_{21}&x_{22} \\\\\n",
        "\\end{array}\\right] \\quad\n",
        "=\n",
        "\\left[\\begin{array}{c}\n",
        "    ax_{11}&ax_{12} \\\\\n",
        "    ax_{21}&ax_{22} \\\\\n",
        "\\end{array}\\right] \\quad\n",
        "$$\n",
        "\n",
        "行列と行列の積\n",
        "$$\n",
        "\\left[\\begin{array}{c}\n",
        "    a&b \\\\\n",
        "    c&d \\\\\n",
        "\\end{array}\\right] \\quad\n",
        "*\n",
        "\\left[\\begin{array}{c}\n",
        "    e&f \\\\\n",
        "    g&h \\\\\n",
        "\\end{array}\\right] \\quad\n",
        "=\n",
        "\\left[\\begin{array}{c}\n",
        "    ae+bg&af+bh \\\\\n",
        "    ce+dg&cf+dh \\\\\n",
        "\\end{array}\\right] \\quad\n",
        "$$\n",
        "\n",
        "$$\n",
        "\\left[\\begin{array}{c}\n",
        "    x_{11}&x_{12}&x_{13} \\\\\n",
        "    x_{21}&x_{22}&x_{23} \\\\\n",
        "\\end{array}\\right] \\quad\n",
        "*\n",
        "\\left[\\begin{array}{c}\n",
        "    y_{11}&y_{12} \\\\\n",
        "    y_{21}&y_{22} \\\\\n",
        "    y_{31}&y_{32} \\\\\n",
        "\\end{array}\\right] \\quad\n",
        "=\n",
        "\\left[\\begin{array}{c}\n",
        "    x_{11}y_{11}+x_{12}y_{21}+x_{13}y_{31}&x_{11}y_{12}+x_{12}y_{22}+x_{13}y_{32} \\\\\n",
        "    x_{21}y_{11}+x_{22}y_{21}+x_{23}y_{31}&x_{21}y_{12}+x_{22}y_{22}+x_{23}y_{32} \\\\\n",
        "\\end{array}\\right] \\quad\n",
        "$$\n",
        "\n",
        "行列の転置\n",
        "$$\n",
        "\\begin{align}\n",
        "A &= \\left(\n",
        "    \\begin{array}{ccc}\n",
        "      1 & 2 & 3 \\\\\n",
        "      4 & 5 & 6 \\\\\n",
        "    \\end{array}\n",
        "  \\right) \\\\\n",
        "A^{\\mathrm{T}} &= \\left(\n",
        "    \\begin{array}{cc}\n",
        "      1 & 4 \\\\\n",
        "      2 & 5 \\\\\n",
        "      3 & 6\n",
        "    \\end{array}\n",
        "  \\right) \n",
        "\\end{align}\n",
        "$$"
      ]
    },
    {
      "cell_type": "code",
      "metadata": {
        "id": "FZJ5nwuzNoAc",
        "outputId": "ab4b1409-81ea-4c5d-bcc3-49a70a4937fe"
      },
      "source": [
        "import numpy as np\n",
        "\n",
        "# 行列の和\n",
        "a = np.array([[1,2,3], [4,5,6]])\n",
        "b = np.array([[3,2,1], [6,5,4]])\n",
        "\n",
        "print('a={}'.format(a))\n",
        "print('-'*10)\n",
        "print('b={}'.format(b))\n",
        "print('-'*10)\n",
        "print('a+b={}'.format(a+b))"
      ],
      "execution_count": null,
      "outputs": [
        {
          "name": "stdout",
          "output_type": "stream",
          "text": [
            "a=[[1 2 3]\n",
            " [4 5 6]]\n",
            "----------\n",
            "b=[[3 2 1]\n",
            " [6 5 4]]\n",
            "----------\n",
            "a+b=[[ 4  4  4]\n",
            " [10 10 10]]\n"
          ]
        }
      ]
    },
    {
      "cell_type": "code",
      "metadata": {
        "id": "tXeqQEe6NoA5",
        "outputId": "f1941c2e-f4e1-40d6-dc63-7a42c5562bc5"
      },
      "source": [
        "# 行列の差\n",
        "c = np.arange(6).reshape(2, 3)\n",
        "d = np.arange(10, 16).reshape(2, 3)\n",
        "\n",
        "print('c={}'.format(c))\n",
        "print('-'*10)\n",
        "print('d={}'.format(d))\n",
        "print('-'*10)\n",
        "print('c-d={}'.format(c-d))"
      ],
      "execution_count": null,
      "outputs": [
        {
          "name": "stdout",
          "output_type": "stream",
          "text": [
            "c=[[0 1 2]\n",
            " [3 4 5]]\n",
            "----------\n",
            "d=[[10 11 12]\n",
            " [13 14 15]]\n",
            "----------\n",
            "c-d=[[-10 -10 -10]\n",
            " [-10 -10 -10]]\n"
          ]
        }
      ]
    },
    {
      "cell_type": "code",
      "metadata": {
        "id": "ZM7UXTk0NoBD",
        "outputId": "838e9956-e89e-4a16-f1c7-fe72018dc388"
      },
      "source": [
        "# 数値と行列の積\n",
        "x1 = np.arange(6).reshape(2,3)\n",
        "\n",
        "print('x1=\\n{}'.format(x1))\n",
        "print('-'*10)\n",
        "print('3*x1=\\n{}'.format(3*x1))"
      ],
      "execution_count": null,
      "outputs": [
        {
          "name": "stdout",
          "output_type": "stream",
          "text": [
            "x1=\n",
            "[[0 1 2]\n",
            " [3 4 5]]\n",
            "----------\n",
            "3*x1=\n",
            "[[ 0  3  6]\n",
            " [ 9 12 15]]\n"
          ]
        }
      ]
    },
    {
      "cell_type": "code",
      "metadata": {
        "id": "QMcRnWYzNoBF",
        "outputId": "33bdeb11-bb23-4acf-88ed-c42c38bf12cb"
      },
      "source": [
        "# 行列と行列の積\n",
        "x = np.arange(6).reshape(2, 3)\n",
        "y = np.arange(3, 9).reshape(3, 2)\n",
        "\n",
        "print('x={}'.format(x))\n",
        "print('-'*10)\n",
        "print('y={}'.format(y))\n",
        "print('-'*10)\n",
        "print('x*y={}'.format(np.dot(x, y)))"
      ],
      "execution_count": null,
      "outputs": [
        {
          "name": "stdout",
          "output_type": "stream",
          "text": [
            "x=[[0 1 2]\n",
            " [3 4 5]]\n",
            "----------\n",
            "y=[[3 4]\n",
            " [5 6]\n",
            " [7 8]]\n",
            "----------\n",
            "x*y=[[19 22]\n",
            " [64 76]]\n"
          ]
        }
      ]
    },
    {
      "cell_type": "code",
      "metadata": {
        "id": "Sy5NGNsrNoBN",
        "outputId": "bf1ec8fc-8b79-4a37-9b44-e98a8b9d8475"
      },
      "source": [
        "# 行列の転置\n",
        "a = np.array([1, 2, 3, 4, 5, 6]).reshape(2, -1)\n",
        "print(a)\n",
        "print('-'*10)\n",
        "print(a.T)"
      ],
      "execution_count": null,
      "outputs": [
        {
          "name": "stdout",
          "output_type": "stream",
          "text": [
            "[[1 2 3]\n",
            " [4 5 6]]\n",
            "----------\n",
            "[[1 4]\n",
            " [2 5]\n",
            " [3 6]]\n"
          ]
        }
      ]
    },
    {
      "cell_type": "markdown",
      "metadata": {
        "id": "pzpKarKhNoBQ"
      },
      "source": [
        "逆行列 \\\n",
        "元行列(正方行列)との積は単位行列となるものは逆行列である。\n",
        "$$\n",
        "A^{-1}A=E \\\\\n",
        "AA^{-1}=E\n",
        "$$\n",
        "\n",
        "逆行列の求め方\n",
        "2*2の場合\n",
        "$$\n",
        "\\begin{align}\n",
        "&A = \\left(\n",
        "    \\begin{array}{ccc}\n",
        "      a & b \\\\\n",
        "      c & d \\\\\n",
        "     \\end{array}\n",
        "  \\right) \\\\\n",
        "&A^{-1} = \\frac{1}{|A|} \\\n",
        "\\left(\n",
        "    \\begin{array}{ccc}\n",
        "      d & -b \\\\\n",
        "      -c & a \\\\\n",
        "     \\end{array}\n",
        "\\right) \\\n",
        "= \\frac{1}{ad-bc} \\\n",
        "\\left(\n",
        "    \\begin{array}{ccc}\n",
        "      d & -b \\\\\n",
        "      -c & a \\\\\n",
        "     \\end{array}\n",
        "\\right) \\\\\n",
        "\\end{align}\n",
        "$$\n",
        "\n",
        "掃き出し法 \\\n",
        "余因子を用いる\\\n",
        "https://manabitimes.jp/math/1153"
      ]
    },
    {
      "cell_type": "code",
      "metadata": {
        "id": "KtWW9PJRNoBS",
        "outputId": "7b74ee11-bab4-4f27-d3e2-ed8bae225ffc"
      },
      "source": [
        "a = np.arange(4).reshape(2,2)\n",
        "inv_a = np.linalg.inv(a)\n",
        "print(a)\n",
        "print('-'*10)\n",
        "print('aの逆行列は\\n{}'.format(inv_a))\n",
        "print('-'*10)\n",
        "print('aとinv_aとの積は\\n{}'.format(a.dot(inv_a)))"
      ],
      "execution_count": null,
      "outputs": [
        {
          "name": "stdout",
          "output_type": "stream",
          "text": [
            "[[0 1]\n",
            " [2 3]]\n",
            "----------\n",
            "aの逆行列は\n",
            "[[-1.5  0.5]\n",
            " [ 1.   0. ]]\n",
            "----------\n",
            "aとinv_aとの積は\n",
            "[[1. 0.]\n",
            " [0. 1.]]\n"
          ]
        }
      ]
    },
    {
      "cell_type": "markdown",
      "metadata": {
        "id": "0SIeQBZsNoBU"
      },
      "source": [
        "行列式detA,|A|\n",
        "$$\n",
        "\\begin{align}\n",
        "&A = \\left(\n",
        "    \\begin{array}{ccc}\n",
        "      a_{11} & a_{12} \\\\\n",
        "      a_{21} & a_{22} \\\\\n",
        "     \\end{array}\n",
        "  \\right) \\\\\n",
        "&|A|=a_{11}a_{22} - a_{12}a_{21} \\\\\n",
        "\\\\\n",
        "\\\\\n",
        "&A = \\left(\n",
        "    \\begin{array}{ccc}\n",
        "      a_{11} & a_{12} & a_{13}\\\\\n",
        "      a_{21} & a_{22} & a_{23}\\\\\n",
        "      a_{31} & a_{32} & a_{33}\\\\\n",
        "     \\end{array}\n",
        "  \\right) \\\\\n",
        "|A|=a_{11}a_{22}a_{33}+a_{21}a_{32}a_{13}+a_{31}a_{12}a_{23}\n",
        "\\\\-a_{31}a_{22}a_{13}-a_{32}a_{23}a_{11}-a_{33}a_{21}a_{12}\n",
        "\\end{align}\n",
        "$$"
      ]
    },
    {
      "cell_type": "code",
      "metadata": {
        "id": "Zmqv25yeNoBW",
        "outputId": "a1a6acf3-3f8b-4851-bcb0-e8fce15648d9"
      },
      "source": [
        "a = np.arange(4).reshape(2,2)\n",
        "det_a = np.linalg.det(a)\n",
        "print(a)\n",
        "print('-'*10)\n",
        "print(det_a)"
      ],
      "execution_count": null,
      "outputs": [
        {
          "name": "stdout",
          "output_type": "stream",
          "text": [
            "[[0 1]\n",
            " [2 3]]\n",
            "----------\n",
            "-2.0\n"
          ]
        }
      ]
    },
    {
      "cell_type": "markdown",
      "metadata": {
        "id": "Sx_FX07WNoBX"
      },
      "source": [
        "単位ベクトル\\\n",
        "大きさ１のベクトル\\\n",
        "$$\n",
        "x= \\left(\n",
        "    \\begin{array}{ccc}\n",
        "      x_1\\\\\n",
        "      x_2\\\\\n",
        "      ...\\\\\n",
        "      x_n\\\\\n",
        "     \\end{array}\n",
        "  \\right) \\\\\n",
        "$$\n",
        "xを単位ベクトルにすると\n",
        "$$\n",
        "\\frac{x}{|x|} \\\\\n",
        "|x|=\\sqrt{x_1^2+x_2^2+...+x_n^2}\n",
        "$$"
      ]
    },
    {
      "cell_type": "code",
      "metadata": {
        "id": "URjA6If4NoBZ",
        "outputId": "07ecd57d-4135-46f9-e89d-4c2eca7d3ebf"
      },
      "source": [
        "a = np.array([3, 4])\n",
        "norm_a = np.linalg.norm(a)\n",
        "b = a / norm_a\n",
        "\n",
        "print(a)\n",
        "print('-'*10)\n",
        "print(norm_a)\n",
        "print('-'*10)\n",
        "print(b)"
      ],
      "execution_count": null,
      "outputs": [
        {
          "name": "stdout",
          "output_type": "stream",
          "text": [
            "[3 4]\n",
            "----------\n",
            "5.0\n",
            "----------\n",
            "[0.6 0.8]\n"
          ]
        }
      ]
    },
    {
      "cell_type": "markdown",
      "metadata": {
        "id": "0SZkgSBWNoBa"
      },
      "source": [
        "### 固有値分解(正方行列)\n",
        "固有値に着目した行列の分解である。\n",
        "$$\n",
        "A = VΛV^{-1}\n",
        "$$\n",
        "V：固有ベクトルを並べた行列\\\n",
        "Λ：対角成分は固有値の行列\\\n",
        "\\\n",
        "手順：\n",
        "\n",
        "$$\n",
        "\\begin{align*}\n",
        "&①|A-λE|=0\n",
        "より固有値λを求める\\\\\n",
        "&②(A-λE)\\bar{v}=\\bar{0}\n",
        "より固有ベクトルvを求める\\\\\n",
        "&③A = VΛV^{-1}\n",
        "\\end{align*}\n",
        "$$\n"
      ]
    },
    {
      "cell_type": "markdown",
      "metadata": {
        "id": "CJMgxRPJNoBb"
      },
      "source": [
        "例：\n",
        "\n",
        "$$\n",
        "A = \n",
        "\\left(\n",
        "\\begin{array}{ccc}\n",
        "  2 & 1\\\\\n",
        "  1 & 2\\\\\n",
        "\\end{array}\n",
        "\\right)\n",
        "を固有値分解せよ\n",
        "$$"
      ]
    },
    {
      "cell_type": "markdown",
      "metadata": {
        "id": "Shq5L9GuNoBe"
      },
      "source": [
        "$$\n",
        "\\begin{align*}\n",
        "&①|A-λE|=0\n",
        "より固有値λを求める\\\\\n",
        "\\end{align*}\n",
        "$$"
      ]
    },
    {
      "cell_type": "markdown",
      "metadata": {
        "id": "PAqS85rzNoBf"
      },
      "source": [
        "$$\n",
        "\\left|\n",
        "\\left(\n",
        "\\begin{array}{ccc}\n",
        "2 & 1\\\\\n",
        "1 & 2\\\\\n",
        "\\end{array}\n",
        "\\right)\n",
        "-λ\n",
        "\\left(\n",
        "\\begin{array}{ccc}\n",
        "1 & 0\\\\\n",
        "0 & 1\\\\\n",
        "\\end{array}\n",
        "\\right)\n",
        "\\right|\n",
        "=0\n",
        "$$"
      ]
    },
    {
      "cell_type": "markdown",
      "metadata": {
        "id": "8-CnotOVNoBg"
      },
      "source": [
        "$$\n",
        "\\left|\n",
        "\\left(\n",
        "\\begin{array}{ccc}\n",
        "2 & 1\\\\\n",
        "1 & 2\\\\\n",
        "\\end{array}\n",
        "\\right)\n",
        "-\n",
        "\\left(\n",
        "\\begin{array}{ccc}\n",
        "λ & 0\\\\\n",
        "0 & λ\\\\\n",
        "\\end{array}\n",
        "\\right)\n",
        "\\right|\n",
        "=0\n",
        "$$"
      ]
    },
    {
      "cell_type": "markdown",
      "metadata": {
        "id": "8_hJDeIxNoBi"
      },
      "source": [
        "$$\n",
        "\\left|\n",
        "\\begin{array}{ccc}\n",
        "2-λ & 1\\\\\n",
        "1 & 2-λ\\\\\n",
        "\\end{array}\n",
        "\\right|\n",
        "=0\n",
        "$$"
      ]
    },
    {
      "cell_type": "markdown",
      "metadata": {
        "id": "nfCYKssvNoBj"
      },
      "source": [
        "$$\n",
        "(2-λ)^2-1=0\n",
        "$$"
      ]
    },
    {
      "cell_type": "markdown",
      "metadata": {
        "id": "Tv7vlzlXNoBj"
      },
      "source": [
        "$$\n",
        "λ=3, λ=1\n",
        "$$"
      ]
    },
    {
      "cell_type": "markdown",
      "metadata": {
        "id": "iai52GICNoBm"
      },
      "source": [
        "$$\n",
        "\\begin{align*}\n",
        "&②(A-λE)\\bar{v}=\\bar{0}\n",
        "より固有ベクトルvを求める\\\\\n",
        "\\end{align*}\n",
        "$$"
      ]
    },
    {
      "cell_type": "markdown",
      "metadata": {
        "id": "xPO1Ra6kNoBm"
      },
      "source": [
        "$$\n",
        "λ=3の時\\\\\n",
        "\\left(\n",
        "\\left(\n",
        "\\begin{array}{ccc}\n",
        "2&1\\\\\n",
        "1&2\\\\\n",
        "\\end{array}\n",
        "\\right)\n",
        "-3\n",
        "\\left(\n",
        "\\begin{array}{ccc}\n",
        "1&0\\\\\n",
        "0&1\\\\\n",
        "\\end{array}\n",
        "\\right)\n",
        "\\right)\n",
        "\\left(\n",
        "\\begin{array}{ccc}\n",
        "v_1\\\\\n",
        "v_2\\\\\n",
        "\\end{array}\n",
        "\\right)\n",
        "=\n",
        "\\bar{0}\n",
        "$$"
      ]
    },
    {
      "cell_type": "markdown",
      "metadata": {
        "id": "pxmS5BBKNoBn"
      },
      "source": [
        "$$\n",
        "\\left(\n",
        "\\begin{array}{ccc}\n",
        "-1&1\\\\\n",
        "1&-1\\\\\n",
        "\\end{array}\n",
        "\\right)\n",
        "\\left(\n",
        "\\begin{array}{ccc}\n",
        "v_1\\\\\n",
        "v_2\\\\\n",
        "\\end{array}\n",
        "\\right)\n",
        "=\n",
        "\\left(\n",
        "\\begin{array}{ccc}\n",
        "0\\\\\n",
        "0\\\\\n",
        "\\end{array}\n",
        "\\right)\n",
        "$$"
      ]
    },
    {
      "cell_type": "markdown",
      "metadata": {
        "id": "pQIuPVX1NoBn"
      },
      "source": [
        "$$\n",
        "-v_1+v_2=0\\\\\n",
        "v_1-v_2=0\\\\\n",
        "v_1=v_2=1\\\\\n",
        "\\bar{v}\n",
        "=\n",
        "\\left(\n",
        "\\begin{array}{ccc}\n",
        "1\\\\\n",
        "1\\\\\n",
        "\\end{array}\n",
        "\\right)\n",
        "$$"
      ]
    },
    {
      "cell_type": "markdown",
      "metadata": {
        "id": "KDG3ZEn3NoBo"
      },
      "source": [
        "$$\n",
        "λ=1の時\\\\\n",
        "\\left(\n",
        "\\left(\n",
        "\\begin{array}{ccc}\n",
        "2&1\\\\\n",
        "1&2\\\\\n",
        "\\end{array}\n",
        "\\right)\n",
        "-1\n",
        "\\left(\n",
        "\\begin{array}{ccc}\n",
        "1&0\\\\\n",
        "0&1\\\\\n",
        "\\end{array}\n",
        "\\right)\n",
        "\\right)\n",
        "\\left(\n",
        "\\begin{array}{ccc}\n",
        "v_1\\\\\n",
        "v_2\\\\\n",
        "\\end{array}\n",
        "\\right)\n",
        "=\n",
        "\\bar{0}\n",
        "$$"
      ]
    },
    {
      "cell_type": "markdown",
      "metadata": {
        "id": "Dx4y4te4NoBo"
      },
      "source": [
        "$$\n",
        "\\left(\n",
        "\\begin{array}{ccc}\n",
        "1&1\\\\\n",
        "1&1\\\\\n",
        "\\end{array}\n",
        "\\right)\n",
        "\\left(\n",
        "\\begin{array}{ccc}\n",
        "v_1\\\\\n",
        "v_2\\\\\n",
        "\\end{array}\n",
        "\\right)\n",
        "=\n",
        "\\left(\n",
        "\\begin{array}{ccc}\n",
        "0\\\\\n",
        "0\\\\\n",
        "\\end{array}\n",
        "\\right)\n",
        "$$"
      ]
    },
    {
      "cell_type": "markdown",
      "metadata": {
        "id": "6a6hHmujNoBp"
      },
      "source": [
        "$$\n",
        "v_1+v_2=0\\\\\n",
        "v_1=1\\\\\n",
        "v_2=-1\\\\\n",
        "\\bar{v}\n",
        "=\n",
        "\\left(\n",
        "\\begin{array}{ccc}\n",
        "1\\\\\n",
        "-1\\\\\n",
        "\\end{array}\n",
        "\\right)\n",
        "$$"
      ]
    },
    {
      "cell_type": "markdown",
      "metadata": {
        "id": "uy0FZtR_NoBp"
      },
      "source": [
        "$$\n",
        "\\begin{align*}\n",
        "&③A = VΛV^{-1}\n",
        "\\end{align*}\n",
        "$$"
      ]
    },
    {
      "cell_type": "markdown",
      "metadata": {
        "id": "YtahnEYZNoBq"
      },
      "source": [
        "$$\n",
        "A=\n",
        "\\left(\n",
        "\\begin{array}{ccc}\n",
        "1&1\\\\\n",
        "1&-1\\\\\n",
        "\\end{array}\n",
        "\\right)\n",
        "\\left(\n",
        "\\begin{array}{ccc}\n",
        "3&0\\\\\n",
        "0&1\\\\\n",
        "\\end{array}\n",
        "\\right)\n",
        "\\left(\n",
        "\\begin{array}{ccc}\n",
        "1&1\\\\\n",
        "1&-1\\\\\n",
        "\\end{array}\n",
        "\\right)^{-1}\n",
        "$$"
      ]
    },
    {
      "cell_type": "markdown",
      "metadata": {
        "id": "uxMWhVtsNoBq"
      },
      "source": [
        "$$\n",
        "A=\n",
        "\\left(\n",
        "\\begin{array}{ccc}\n",
        "1&1\\\\\n",
        "1&-1\\\\\n",
        "\\end{array}\n",
        "\\right)\n",
        "\\left(\n",
        "\\begin{array}{ccc}\n",
        "3&0\\\\\n",
        "0&1\\\\\n",
        "\\end{array}\n",
        "\\right)\n",
        "\\left(\n",
        "\\begin{array}{ccc}\n",
        "0.5&0.5\\\\\n",
        "0.5&-0.5\\\\\n",
        "\\end{array}\n",
        "\\right)\n",
        "$$"
      ]
    },
    {
      "cell_type": "markdown",
      "metadata": {
        "id": "XMQ2wKxoNoBr"
      },
      "source": [
        "### 特異値分解（m＊n行列）\n",
        "<img src='img/特異値分解.jpg' width=80%/>\n",
        "https://qiita.com/kidaufo/items/0f3da4ca4e19dc0e987e\n",
        "$$\n",
        "A=UΣV^{-1}\\\\\n",
        "A=UΣV^{T}\\\\\n",
        "ここで  \n",
        "V^{-1}=V^{T}\n",
        "$$"
      ]
    },
    {
      "cell_type": "markdown",
      "metadata": {
        "id": "BPBKvIWnNoBr"
      },
      "source": [
        "手順：\n",
        "$$\n",
        "\\begin{align*}\n",
        "&①AA^{T}とA^{T}Aを求める\\\\\n",
        "&②-①\n",
        "\\left|\n",
        "AA^{T}-λE\n",
        "\\right|\n",
        "=0\n",
        "よりλを求める\\\\\n",
        "&②-②\n",
        "\\left(\n",
        "AA^{T}-λE\n",
        "\\right)\n",
        "\\bar{u}\n",
        "=\n",
        "\\bar{0}\n",
        "により左ベクトルuを求める\\\\\n",
        "&③-①\n",
        "\\left|\n",
        "A^{T}A-λE\n",
        "\\right|\n",
        "=0\n",
        "よりλを求める\\\\\n",
        "&③-②\n",
        "\\left(\n",
        "A^{T}A-λE\n",
        "\\right)\n",
        "\\bar{v}\n",
        "=\n",
        "\\bar{0}\n",
        "により右ベクトルvを求める\\\\\n",
        "&④A=UΣV^{T}\n",
        "=(u_1, u_2...)\n",
        "\\left(\n",
        "\\begin{array}{ccc}\n",
        "σ_1&...&0\\\\\n",
        "0&σ_2&..&0\\\\\n",
        "..&..&..\\\\\n",
        "\\end{array}\n",
        "\\right)\n",
        "(v_1,v_2...)^{T}\\\\\n",
        "&・σ_i= \\sqrt{λ}\\\\\n",
        "&・σ_1>σ_2>σ_3..\\\\\n",
        "&・u_i,v_iは単位ベクトル\n",
        "\\end{align*}\n",
        "$$"
      ]
    },
    {
      "cell_type": "markdown",
      "metadata": {
        "id": "c2AZaHlNNoBu"
      },
      "source": [
        "例：\n",
        "$$\n",
        "A=\n",
        "\\left(\n",
        "\\begin{array}{ccc}\n",
        "1&0&1\\\\\n",
        "0&1&1\\\\\n",
        "\\end{array}\n",
        "\\right)\n",
        "を特異値分解せよ\n",
        "$$"
      ]
    },
    {
      "cell_type": "markdown",
      "metadata": {
        "id": "5T4RXJOJNoBv"
      },
      "source": [
        "$$\n",
        "\\begin{align*}\n",
        "&①AA^{T}とA^{T}Aを求める\\\\\n",
        "&A^T=\n",
        "\\left(\n",
        "\\begin{array}{ccc}\n",
        "1&0\\\\\n",
        "0&1\\\\\n",
        "1&1\\\\\n",
        "\\end{array}\n",
        "\\right)\\\\\n",
        "&AA^{T}=\n",
        "\\left(\n",
        "\\begin{array}{ccc}\n",
        "2&1\\\\\n",
        "1&2\\\\\n",
        "\\end{array}\n",
        "\\right)\n",
        "&AA^{T}=\n",
        "\\left(\n",
        "\\begin{array}{ccc}\n",
        "1&0&1\\\\\n",
        "0&1&1\\\\\n",
        "1&1&2\\\\\n",
        "\\end{array}\n",
        "\\right)\n",
        "\\end{align*}\n",
        "$$"
      ]
    },
    {
      "cell_type": "markdown",
      "metadata": {
        "id": "GmmIoPgVNoBv"
      },
      "source": [
        "$$\n",
        "\\begin{align*}\n",
        "&②-①\n",
        "\\left|\n",
        "AA^{T}-λE\n",
        "\\right|\n",
        "=0\n",
        "よりλを求める\\\\\n",
        "&λ=3,λ=1\n",
        "\\end{align*}\n",
        "$$"
      ]
    },
    {
      "cell_type": "markdown",
      "metadata": {
        "id": "rj_zTrnbNoBw"
      },
      "source": [
        "$$\n",
        "\\begin{align*}\n",
        "&②-②\n",
        "\\left(\n",
        "AA^{T}-λE\n",
        "\\right)\n",
        "\\bar{u}\n",
        "=\n",
        "\\bar{0}\n",
        "により左ベクトルuを求める\\\\\n",
        "&λ=3の時\\\\\n",
        "&\\bar{u}=\n",
        "\\left(\n",
        "\\begin{array}{ccc}\n",
        "1/\\sqrt{2}\\\\\n",
        "1/\\sqrt{2}\\\\\n",
        "\\end{array}\n",
        "\\right)\\\\\n",
        "&λ=1の時\\\\\n",
        "&\\bar{u}=\n",
        "\\left(\n",
        "\\begin{array}{ccc}\n",
        "1/\\sqrt{2}\\\\\n",
        "-1/\\sqrt{2}\\\\\n",
        "\\end{array}\n",
        "\\right)\n",
        "\\end{align*}\n",
        "$$"
      ]
    },
    {
      "cell_type": "markdown",
      "metadata": {
        "id": "Fb6FPPNmNoBy"
      },
      "source": [
        "$$\n",
        "\\begin{align*}\n",
        "&③-①\n",
        "\\left|\n",
        "A^{T}A-λE\n",
        "\\right|\n",
        "=0\n",
        "よりλを求める\\\\\n",
        "&λ=3,λ=1,λ=0\n",
        "\\end{align*}\n",
        "$$"
      ]
    },
    {
      "cell_type": "markdown",
      "metadata": {
        "id": "VU5hr5xsNoBy"
      },
      "source": [
        "$$\n",
        "\\begin{align*}\n",
        "&②-②\n",
        "\\left(\n",
        "A^{T}A-λE\n",
        "\\right)\n",
        "\\bar{v}\n",
        "=\n",
        "\\bar{0}\n",
        "により左ベクトルuを求める\\\\\n",
        "&λ=3の時\\\\\n",
        "&\\bar{v}=\n",
        "\\left(\n",
        "\\begin{array}{ccc}\n",
        "\\sqrt{1/6}\\\\\n",
        "\\sqrt{1/6}\\\\\n",
        "\\sqrt{2/3}\\\\\n",
        "\\end{array}\n",
        "\\right)\\\\\n",
        "&λ=1の時\\\\\n",
        "&\\bar{v}=\n",
        "\\left(\n",
        "\\begin{array}{ccc}\n",
        "\\sqrt{1/2}\\\\\n",
        "\\sqrt{1/2}\\\\\n",
        "0\\\\\n",
        "\\end{array}\n",
        "\\right)\\\\\n",
        "&λ=0の時\\\\\n",
        "&\\bar{v}=\n",
        "\\left(\n",
        "\\begin{array}{ccc}\n",
        "\\sqrt{1/3}\\\\\n",
        "\\sqrt{1/3}\\\\\n",
        "\\sqrt{1/3}\\\\\n",
        "\\end{array}\n",
        "\\right)\\\\\n",
        "\\end{align*}\n",
        "$$"
      ]
    },
    {
      "cell_type": "markdown",
      "metadata": {
        "id": "r1-oDuYgNoBz"
      },
      "source": [
        "$$\n",
        "\\begin{align*}\n",
        "&④A=UΣV^{T}\n",
        "=(u_1, u_2...)\n",
        "\\left(\n",
        "\\begin{array}{ccc}\n",
        "σ_1&...&0\\\\\n",
        "0&σ_2&..&0\\\\\n",
        "..&..&..\\\\\n",
        "\\end{array}\n",
        "\\right)\n",
        "(v_1,v_2...)^{T}\\\\\n",
        "&A=\n",
        "\\left(\n",
        "\\begin{array}{ccc}\n",
        "\\sqrt{1/2}&\\sqrt{1/2}\\\\\n",
        "\\sqrt{1/2}&\\sqrt{-1/2}\\\\\n",
        "\\end{array}\n",
        "\\right)\n",
        "\\end{align*}\n",
        "$$"
      ]
    },
    {
      "cell_type": "markdown",
      "metadata": {
        "id": "kMzzKGPrNoB0"
      },
      "source": [
        "$$\n",
        "\\begin{align*}\n",
        "A=\n",
        "\\left(\n",
        "\\begin{array}{ccc}\n",
        "\\sqrt{1/2}&\\sqrt{1/2}\\\\\n",
        "\\sqrt{1/2}&\\sqrt{-1/2}\\\\\n",
        "\\end{array}\n",
        "\\right)\n",
        "\\left(\n",
        "\\begin{array}{ccc}\n",
        "\\sqrt{3}&0&0\\\\\n",
        "0&1&0\\\\\n",
        "\\end{array}\n",
        "\\right)\\\\\n",
        "\\left(\n",
        "\\begin{array}{ccc}\n",
        "\\sqrt{1/6}&\\sqrt{1/2}&\\sqrt{-1/3}\\\\\n",
        "\\sqrt{1/6}&\\sqrt{1/2}&\\sqrt{-1/3}\\\\\n",
        "\\sqrt{4/6}&0&\\sqrt{1/3}\\\\\n",
        "\\end{array}\n",
        "\\right)^T\n",
        "\\end{align*}\n",
        "$$"
      ]
    },
    {
      "cell_type": "code",
      "metadata": {
        "id": "dOWs05Y4NoB0"
      },
      "source": [
        ""
      ],
      "execution_count": null,
      "outputs": []
    }
  ]
}