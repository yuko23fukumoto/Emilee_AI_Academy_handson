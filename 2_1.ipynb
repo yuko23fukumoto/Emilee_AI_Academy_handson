{
  "nbformat": 4,
  "nbformat_minor": 0,
  "metadata": {
    "colab": {
      "name": "2_1.ipynb",
      "version": "0.3.2",
      "provenance": [],
      "collapsed_sections": [],
      "toc_visible": true
    },
    "kernelspec": {
      "display_name": "Python 3",
      "language": "python",
      "name": "python3"
    }
  },
  "cells": [
    {
      "cell_type": "markdown",
      "metadata": {
        "id": "JspTuv05zyVq",
        "colab_type": "text"
      },
      "source": [
        "# 2. 機械学習につなげるPython"
      ]
    },
    {
      "cell_type": "markdown",
      "metadata": {
        "id": "iiLmUx8_CPyv",
        "colab_type": "text"
      },
      "source": [
        "\n",
        "## 2-1. Pythonとは\n",
        "\n",
        "*   シンプルで読みやすく、覚えやすいプログラミング言語\n",
        "*   オープンソースで、無料で自由に利用することができる\n",
        "*   英語のような文法でプログラムを書くことができ、手間のかかるコンパイルはない\n",
        "*   Pythonを用いると、可読性の高いコードを書くことができると同時に、パフォーマンスの高い(処理速度の速い)コードを書くこともできる\n",
        "\n",
        "\n",
        "*  NumpyやSciPyといった数値計算や統計処理を行う優れたライブラリなどにより、科学の分野、特に機械学習やデータサイエンスの分野で良く使われる\n",
        "*   Pythonを学べば、CaffeやTensorFlow、ChainerやTheanoといった有名なディープラーニングのフレームワークを使う際にも役立つ\n",
        "\n",
        "\n",
        "<img src=\"https://github.com/yuko23fukumoto/Emilee_AI_Academy_handson/blob/master/image/lib.png?raw=1\" alt=\"ライブラリ\" width=\"70%\" height=\"70%\" align=\"left\"/>\n",
        "\n",
        "\n",
        "\n",
        "\n"
      ]
    },
    {
      "cell_type": "markdown",
      "metadata": {
        "id": "gQGlpeL3CPyx",
        "colab_type": "text"
      },
      "source": [
        "## 2-2. 環境設定"
      ]
    },
    {
      "cell_type": "markdown",
      "metadata": {
        "id": "tGd1-4c0CPyy",
        "colab_type": "text"
      },
      "source": [
        "### GoogleColaboratory で動かしてみる  \n",
        "GoogleColaboratoryとは  \n",
        "\n",
        "- Googleが提供する、特に設定なしで無料でブラウザから使えるJupyterNotebook\n",
        "- GPUも使用できる\n",
        "\n",
        "\n",
        "[GoogleColaboratoryを開始する](https://colab.research.google.com/notebooks/welcome.ipynb)  \n",
        "[ファイル]ー[Python3の新しいノートブック]\n"
      ]
    },
    {
      "cell_type": "markdown",
      "metadata": {
        "id": "-LaC1M6l46A6",
        "colab_type": "text"
      },
      "source": [
        "[shift] + [Enter] で実行できる"
      ]
    },
    {
      "cell_type": "code",
      "metadata": {
        "id": "205baovRCPyz",
        "colab_type": "code",
        "outputId": "c2d444ac-0e53-4185-b382-577572da7b27",
        "colab": {
          "base_uri": "https://localhost:8080/",
          "height": 34
        }
      },
      "source": [
        "1 + 2"
      ],
      "execution_count": 0,
      "outputs": [
        {
          "output_type": "execute_result",
          "data": {
            "text/plain": [
              "3"
            ]
          },
          "metadata": {
            "tags": []
          },
          "execution_count": 2
        }
      ]
    },
    {
      "cell_type": "markdown",
      "metadata": {
        "id": "mu9CgFx648E2",
        "colab_type": "text"
      },
      "source": [
        "文字列は「’」(シングルコーテーション)または、「”」(ダブルコーテーション)のどちらかでくくる\n"
      ]
    },
    {
      "cell_type": "code",
      "metadata": {
        "id": "nTSFviBACPy6",
        "colab_type": "code",
        "outputId": "e4b7ff3f-d0c1-46a3-fd2a-52b998db350c",
        "colab": {
          "base_uri": "https://localhost:8080/",
          "height": 34
        }
      },
      "source": [
        "print('test') "
      ],
      "execution_count": 0,
      "outputs": [
        {
          "output_type": "stream",
          "text": [
            "test\n"
          ],
          "name": "stdout"
        }
      ]
    },
    {
      "cell_type": "markdown",
      "metadata": {
        "id": "kQSils4C_sgQ",
        "colab_type": "text"
      },
      "source": [
        "コメントアウトは#を使用する。[Ctrl] + [/]で切り替えも可能"
      ]
    },
    {
      "cell_type": "code",
      "metadata": {
        "id": "WnPHzD06CPy-",
        "colab_type": "code",
        "colab": {}
      },
      "source": [
        "# 1 + 2"
      ],
      "execution_count": 0,
      "outputs": []
    },
    {
      "cell_type": "markdown",
      "metadata": {
        "id": "ratu0bvwCPzA",
        "colab_type": "text"
      },
      "source": [
        "**☆Markdownの基本的な書き方**\n",
        "\n",
        "ページ上部の[+ テキスト]を選択"
      ]
    },
    {
      "cell_type": "markdown",
      "metadata": {
        "id": "nK9mfpDGCPzB",
        "colab_type": "text"
      },
      "source": [
        "`# 大見出し` ⇒\n",
        "# 大見出し\n",
        "`## 中見出し` ⇒\n",
        "## 中見出し"
      ]
    },
    {
      "cell_type": "markdown",
      "metadata": {
        "id": "1GeFJznqCPzC",
        "colab_type": "text"
      },
      "source": [
        "`あいうえお\n",
        "かきくけこ` ⇒\n",
        "あいうえお\n",
        "かきくけこ  \n",
        "  \n",
        "Enterのみでは改行されないため、行末に**半角スペースを２つ**追加する"
      ]
    },
    {
      "cell_type": "markdown",
      "metadata": {
        "id": "WE3aJ9dvCPzE",
        "colab_type": "text"
      },
      "source": [
        "`さしすせそ  \n",
        "たちつてと` ⇒  \n",
        "さしすせそ  \n",
        "たちつてと"
      ]
    },
    {
      "cell_type": "markdown",
      "metadata": {
        "id": "54E7zU9iUT8r",
        "colab_type": "text"
      },
      "source": [
        "ページ上部の[Untitled]を押し、ファイル名を変更することができる\n",
        "\n",
        "例: 20190717_Python基本.ipynb"
      ]
    },
    {
      "cell_type": "markdown",
      "metadata": {
        "id": "KSJemaTkzpHE",
        "colab_type": "text"
      },
      "source": [
        "## 2-3. 数値と文字列の操作"
      ]
    },
    {
      "cell_type": "markdown",
      "metadata": {
        "id": "_c79BPcYCPzF",
        "colab_type": "text"
      },
      "source": [
        "\n",
        "### 演算子\n",
        "\n",
        "\n",
        "*   x + y 　　x と y の和\n",
        "*   x - y 　　 x と y の差\n",
        "*   x * y 　　x と y の積\n",
        "*   x / y 　　x と y の商\n",
        "*   x // y   　　 x と y の商を切り下げたもの\n",
        "*   x % y   　　 x / y の剰余\n",
        "*   x ** y   　　x の y 乗\n",
        "\n"
      ]
    },
    {
      "cell_type": "code",
      "metadata": {
        "id": "0sL7HR1PCPzG",
        "colab_type": "code",
        "outputId": "ee084912-c4db-4865-c167-a226f45cd216",
        "colab": {
          "base_uri": "https://localhost:8080/",
          "height": 34
        }
      },
      "source": [
        "1 - 2"
      ],
      "execution_count": 0,
      "outputs": [
        {
          "output_type": "execute_result",
          "data": {
            "text/plain": [
              "-1"
            ]
          },
          "metadata": {
            "tags": []
          },
          "execution_count": 5
        }
      ]
    },
    {
      "cell_type": "code",
      "metadata": {
        "id": "Atr5mBD0CPzK",
        "colab_type": "code",
        "outputId": "cde82671-4f86-4a73-b105-218dd111fd0b",
        "colab": {
          "base_uri": "https://localhost:8080/",
          "height": 34
        }
      },
      "source": [
        "4 * 5"
      ],
      "execution_count": 0,
      "outputs": [
        {
          "output_type": "execute_result",
          "data": {
            "text/plain": [
              "20"
            ]
          },
          "metadata": {
            "tags": []
          },
          "execution_count": 6
        }
      ]
    },
    {
      "cell_type": "code",
      "metadata": {
        "id": "Wzhr-3UhCPzO",
        "colab_type": "code",
        "outputId": "05c70240-6e70-4c2e-b6d2-65781acee7f3",
        "colab": {
          "base_uri": "https://localhost:8080/",
          "height": 34
        }
      },
      "source": [
        "15 / 2"
      ],
      "execution_count": 0,
      "outputs": [
        {
          "output_type": "execute_result",
          "data": {
            "text/plain": [
              "7.5"
            ]
          },
          "metadata": {
            "tags": []
          },
          "execution_count": 8
        }
      ]
    },
    {
      "cell_type": "code",
      "metadata": {
        "id": "EyMmduqDaXez",
        "colab_type": "code",
        "outputId": "cb40f27b-cc91-4411-f8f9-21f71f1cbcdb",
        "colab": {
          "base_uri": "https://localhost:8080/",
          "height": 34
        }
      },
      "source": [
        "15 // 2"
      ],
      "execution_count": 0,
      "outputs": [
        {
          "output_type": "execute_result",
          "data": {
            "text/plain": [
              "7"
            ]
          },
          "metadata": {
            "tags": []
          },
          "execution_count": 9
        }
      ]
    },
    {
      "cell_type": "code",
      "metadata": {
        "id": "nkqQjEyQacaL",
        "colab_type": "code",
        "outputId": "311a92d9-1c7c-477c-8529-5f5197930706",
        "colab": {
          "base_uri": "https://localhost:8080/",
          "height": 34
        }
      },
      "source": [
        "15 % 2"
      ],
      "execution_count": 0,
      "outputs": [
        {
          "output_type": "execute_result",
          "data": {
            "text/plain": [
              "1"
            ]
          },
          "metadata": {
            "tags": []
          },
          "execution_count": 10
        }
      ]
    },
    {
      "cell_type": "code",
      "metadata": {
        "id": "0Jwhoe6CCPzU",
        "colab_type": "code",
        "outputId": "11120d70-10fc-4094-e48d-ada6fb05edc5",
        "colab": {
          "base_uri": "https://localhost:8080/",
          "height": 34
        }
      },
      "source": [
        "3 ** 2"
      ],
      "execution_count": 0,
      "outputs": [
        {
          "output_type": "execute_result",
          "data": {
            "text/plain": [
              "9"
            ]
          },
          "metadata": {
            "tags": []
          },
          "execution_count": 11
        }
      ]
    },
    {
      "cell_type": "markdown",
      "metadata": {
        "id": "hYM0WPbDCPzZ",
        "colab_type": "text"
      },
      "source": [
        "### 型"
      ]
    },
    {
      "cell_type": "code",
      "metadata": {
        "id": "8bbt0-w7CPzZ",
        "colab_type": "code",
        "outputId": "d36c4b31-782f-4650-f756-e1ffc5c42d50",
        "colab": {
          "base_uri": "https://localhost:8080/",
          "height": 34
        }
      },
      "source": [
        "type(10) # 整数型"
      ],
      "execution_count": 0,
      "outputs": [
        {
          "output_type": "execute_result",
          "data": {
            "text/plain": [
              "int"
            ]
          },
          "metadata": {
            "tags": []
          },
          "execution_count": 8
        }
      ]
    },
    {
      "cell_type": "code",
      "metadata": {
        "id": "HzlnsbWZCPzd",
        "colab_type": "code",
        "outputId": "4fc50b8b-379a-4b1e-dad8-5529ffbaaeb4",
        "colab": {
          "base_uri": "https://localhost:8080/",
          "height": 34
        }
      },
      "source": [
        "type(2.178) # 浮動小数点型"
      ],
      "execution_count": 0,
      "outputs": [
        {
          "output_type": "execute_result",
          "data": {
            "text/plain": [
              "float"
            ]
          },
          "metadata": {
            "tags": []
          },
          "execution_count": 12
        }
      ]
    },
    {
      "cell_type": "code",
      "metadata": {
        "id": "Rnz-XQlNCPzh",
        "colab_type": "code",
        "outputId": "a51f3c38-7a19-46b4-d710-a62bb6a8373e",
        "colab": {
          "base_uri": "https://localhost:8080/",
          "height": 34
        }
      },
      "source": [
        "type('hello') # 文字列型"
      ],
      "execution_count": 0,
      "outputs": [
        {
          "output_type": "execute_result",
          "data": {
            "text/plain": [
              "str"
            ]
          },
          "metadata": {
            "tags": []
          },
          "execution_count": 17
        }
      ]
    },
    {
      "cell_type": "code",
      "metadata": {
        "id": "CB0AVrfmCPzm",
        "colab_type": "code",
        "outputId": "7e5018d0-4411-4c0d-dfa1-03dff5f55288",
        "colab": {
          "base_uri": "https://localhost:8080/",
          "height": 34
        }
      },
      "source": [
        "'Hi,  ' + 'everyone!'"
      ],
      "execution_count": 0,
      "outputs": [
        {
          "output_type": "execute_result",
          "data": {
            "text/plain": [
              "'Hi,  everyone!'"
            ]
          },
          "metadata": {
            "tags": []
          },
          "execution_count": 21
        }
      ]
    },
    {
      "cell_type": "code",
      "metadata": {
        "id": "h-k3f2ehCPzr",
        "colab_type": "code",
        "outputId": "19ef3be1-914a-443f-b26f-00db77b6c9b4",
        "colab": {
          "base_uri": "https://localhost:8080/",
          "height": 171
        }
      },
      "source": [
        "1 + '章'"
      ],
      "execution_count": 0,
      "outputs": [
        {
          "output_type": "error",
          "ename": "TypeError",
          "evalue": "ignored",
          "traceback": [
            "\u001b[0;31m---------------------------------------------------------------------------\u001b[0m",
            "\u001b[0;31mTypeError\u001b[0m                                 Traceback (most recent call last)",
            "\u001b[0;32m<ipython-input-22-094a8ab5d509>\u001b[0m in \u001b[0;36m<module>\u001b[0;34m()\u001b[0m\n\u001b[0;32m----> 1\u001b[0;31m \u001b[0;36m1\u001b[0m \u001b[0;34m+\u001b[0m \u001b[0;34m'章'\u001b[0m\u001b[0;34m\u001b[0m\u001b[0;34m\u001b[0m\u001b[0m\n\u001b[0m",
            "\u001b[0;31mTypeError\u001b[0m: unsupported operand type(s) for +: 'int' and 'str'"
          ]
        }
      ]
    },
    {
      "cell_type": "code",
      "metadata": {
        "id": "r1PvhuOgco3x",
        "colab_type": "code",
        "outputId": "182ef763-e1bf-4070-85e7-974f8b23e2c0",
        "colab": {
          "base_uri": "https://localhost:8080/",
          "height": 34
        }
      },
      "source": [
        "str(1) + '章'"
      ],
      "execution_count": 0,
      "outputs": [
        {
          "output_type": "execute_result",
          "data": {
            "text/plain": [
              "'1章'"
            ]
          },
          "metadata": {
            "tags": []
          },
          "execution_count": 23
        }
      ]
    },
    {
      "cell_type": "code",
      "metadata": {
        "id": "yHhzDLIQc4iV",
        "colab_type": "code",
        "outputId": "7cf4c4e3-1ffc-4fb6-f20c-1dc5200f90fa",
        "colab": {
          "base_uri": "https://localhost:8080/",
          "height": 34
        }
      },
      "source": [
        "int(16.8)"
      ],
      "execution_count": 0,
      "outputs": [
        {
          "output_type": "execute_result",
          "data": {
            "text/plain": [
              "16"
            ]
          },
          "metadata": {
            "tags": []
          },
          "execution_count": 25
        }
      ]
    },
    {
      "cell_type": "markdown",
      "metadata": {
        "id": "JQK4gbLNCPzv",
        "colab_type": "text"
      },
      "source": [
        "### 変数"
      ]
    },
    {
      "cell_type": "code",
      "metadata": {
        "id": "9ltvSs_3CPzw",
        "colab_type": "code",
        "outputId": "c77a4ac8-7b5f-408b-cb31-d66856ff98c4",
        "colab": {
          "base_uri": "https://localhost:8080/",
          "height": 34
        }
      },
      "source": [
        "x = 10 # 初期化\n",
        "print(x) # xを代入する"
      ],
      "execution_count": 0,
      "outputs": [
        {
          "output_type": "stream",
          "text": [
            "10\n"
          ],
          "name": "stdout"
        }
      ]
    },
    {
      "cell_type": "code",
      "metadata": {
        "id": "F5wpCI6YCPzz",
        "colab_type": "code",
        "outputId": "a69f1b81-a0da-445a-861e-ea46ff8226a0",
        "colab": {
          "base_uri": "https://localhost:8080/",
          "height": 34
        }
      },
      "source": [
        "x = 100 # 代入\n",
        "print(x)"
      ],
      "execution_count": 0,
      "outputs": [
        {
          "output_type": "stream",
          "text": [
            "100\n"
          ],
          "name": "stdout"
        }
      ]
    },
    {
      "cell_type": "code",
      "metadata": {
        "id": "qj3ivfAOCPz3",
        "colab_type": "code",
        "colab": {}
      },
      "source": [
        "y = 3.14"
      ],
      "execution_count": 0,
      "outputs": []
    },
    {
      "cell_type": "code",
      "metadata": {
        "id": "PMQYDfGiCPz5",
        "colab_type": "code",
        "colab": {}
      },
      "source": [
        "z = x * y"
      ],
      "execution_count": 0,
      "outputs": []
    },
    {
      "cell_type": "code",
      "metadata": {
        "id": "08hAqXZACPz7",
        "colab_type": "code",
        "outputId": "627e2c3f-1a91-4345-a21a-ec580b091640",
        "colab": {
          "base_uri": "https://localhost:8080/",
          "height": 52
        }
      },
      "source": [
        "print(z)\n",
        "type(z) # 型の自動変換"
      ],
      "execution_count": 0,
      "outputs": [
        {
          "output_type": "stream",
          "text": [
            "314.0\n"
          ],
          "name": "stdout"
        },
        {
          "output_type": "execute_result",
          "data": {
            "text/plain": [
              "float"
            ]
          },
          "metadata": {
            "tags": []
          },
          "execution_count": 18
        }
      ]
    },
    {
      "cell_type": "markdown",
      "metadata": {
        "id": "6c1MHusACP0A",
        "colab_type": "text"
      },
      "source": [
        "### ブーリアン"
      ]
    },
    {
      "cell_type": "code",
      "metadata": {
        "id": "gfAfhEdXCP0B",
        "colab_type": "code",
        "colab": {}
      },
      "source": [
        "hungry  = True # お腹空いてる？"
      ],
      "execution_count": 0,
      "outputs": []
    },
    {
      "cell_type": "code",
      "metadata": {
        "id": "To6RRd7vCP0D",
        "colab_type": "code",
        "colab": {}
      },
      "source": [
        "sleepy = False # 眠い？"
      ],
      "execution_count": 0,
      "outputs": []
    },
    {
      "cell_type": "code",
      "metadata": {
        "id": "DNZBw6j7CP0G",
        "colab_type": "code",
        "outputId": "75938d9d-f150-4d84-96dc-745fdd8ceac8",
        "colab": {
          "base_uri": "https://localhost:8080/",
          "height": 34
        }
      },
      "source": [
        "type(hungry)"
      ],
      "execution_count": 0,
      "outputs": [
        {
          "output_type": "execute_result",
          "data": {
            "text/plain": [
              "bool"
            ]
          },
          "metadata": {
            "tags": []
          },
          "execution_count": 21
        }
      ]
    },
    {
      "cell_type": "code",
      "metadata": {
        "id": "a4a6-2TlCP0K",
        "colab_type": "code",
        "outputId": "a6bc1567-4b8c-4a2d-b0e4-d2efe10a406d",
        "colab": {
          "base_uri": "https://localhost:8080/",
          "height": 34
        }
      },
      "source": [
        "not hungry"
      ],
      "execution_count": 0,
      "outputs": [
        {
          "output_type": "execute_result",
          "data": {
            "text/plain": [
              "False"
            ]
          },
          "metadata": {
            "tags": []
          },
          "execution_count": 22
        }
      ]
    },
    {
      "cell_type": "code",
      "metadata": {
        "id": "_8SvB1ARCP0O",
        "colab_type": "code",
        "outputId": "e15f3376-34dc-479c-b599-f4ec0f00ce98",
        "colab": {
          "base_uri": "https://localhost:8080/",
          "height": 34
        }
      },
      "source": [
        "hungry and sleepy # 空腹かつ眠い"
      ],
      "execution_count": 0,
      "outputs": [
        {
          "output_type": "execute_result",
          "data": {
            "text/plain": [
              "False"
            ]
          },
          "metadata": {
            "tags": []
          },
          "execution_count": 23
        }
      ]
    },
    {
      "cell_type": "code",
      "metadata": {
        "id": "-206as6MCP0S",
        "colab_type": "code",
        "outputId": "6548df18-f35a-4ad6-856c-a8cfe62c6c1e",
        "colab": {
          "base_uri": "https://localhost:8080/",
          "height": 34
        }
      },
      "source": [
        "hungry or sleepy # 空腹または眠い"
      ],
      "execution_count": 0,
      "outputs": [
        {
          "output_type": "execute_result",
          "data": {
            "text/plain": [
              "True"
            ]
          },
          "metadata": {
            "tags": []
          },
          "execution_count": 24
        }
      ]
    },
    {
      "cell_type": "markdown",
      "metadata": {
        "id": "gZyZQMqeCP0W",
        "colab_type": "text"
      },
      "source": [
        "## 2-4. 複数の変数\n"
      ]
    },
    {
      "cell_type": "markdown",
      "metadata": {
        "id": "19RrC4wNzbgK",
        "colab_type": "text"
      },
      "source": [
        "###  リスト"
      ]
    },
    {
      "cell_type": "code",
      "metadata": {
        "id": "vSLtDwAlCP0X",
        "colab_type": "code",
        "outputId": "63d0a5be-9e3f-4215-884e-d4eefa299990",
        "colab": {
          "base_uri": "https://localhost:8080/",
          "height": 34
        }
      },
      "source": [
        "a = [1, 2, 3, 4, 5] #リストの作成\n",
        "print(a)"
      ],
      "execution_count": 0,
      "outputs": [
        {
          "output_type": "stream",
          "text": [
            "[1, 2, 3, 4, 5]\n"
          ],
          "name": "stdout"
        }
      ]
    },
    {
      "cell_type": "code",
      "metadata": {
        "id": "N3RVby0tCP0c",
        "colab_type": "code",
        "outputId": "2c34be72-e015-46e9-b61f-42ef9fa3a69f",
        "colab": {
          "base_uri": "https://localhost:8080/",
          "height": 34
        }
      },
      "source": [
        "len(a) # リストの長さを取得"
      ],
      "execution_count": 0,
      "outputs": [
        {
          "output_type": "execute_result",
          "data": {
            "text/plain": [
              "5"
            ]
          },
          "metadata": {
            "tags": []
          },
          "execution_count": 26
        }
      ]
    },
    {
      "cell_type": "code",
      "metadata": {
        "id": "DjnQE7V-CP0f",
        "colab_type": "code",
        "outputId": "bb3ad238-e633-47a8-94e1-bf509f6c8179",
        "colab": {
          "base_uri": "https://localhost:8080/",
          "height": 34
        }
      },
      "source": [
        "a[0] # 最初の要素にアクセス"
      ],
      "execution_count": 0,
      "outputs": [
        {
          "output_type": "execute_result",
          "data": {
            "text/plain": [
              "1"
            ]
          },
          "metadata": {
            "tags": []
          },
          "execution_count": 27
        }
      ]
    },
    {
      "cell_type": "code",
      "metadata": {
        "id": "IsWymMK7CP0j",
        "colab_type": "code",
        "outputId": "e34bbd2d-e9e3-44af-fd67-b0b7daa8a069",
        "colab": {
          "base_uri": "https://localhost:8080/",
          "height": 34
        }
      },
      "source": [
        "a[4]"
      ],
      "execution_count": 0,
      "outputs": [
        {
          "output_type": "execute_result",
          "data": {
            "text/plain": [
              "5"
            ]
          },
          "metadata": {
            "tags": []
          },
          "execution_count": 28
        }
      ]
    },
    {
      "cell_type": "code",
      "metadata": {
        "id": "gBtfiPsqCP0k",
        "colab_type": "code",
        "outputId": "5c4617d6-818c-4cfc-adee-2f70c96fcc32",
        "colab": {
          "base_uri": "https://localhost:8080/",
          "height": 34
        }
      },
      "source": [
        "a[4] = 99 # 値を代入\n",
        "print(a)"
      ],
      "execution_count": 0,
      "outputs": [
        {
          "output_type": "stream",
          "text": [
            "[1, 2, 3, 4, 99]\n"
          ],
          "name": "stdout"
        }
      ]
    },
    {
      "cell_type": "markdown",
      "metadata": {
        "id": "nVU5ceSnfUL0",
        "colab_type": "text"
      },
      "source": [
        "**スライス** を使用することで部分的にリストにアクセスすることができる\n",
        "\n",
        "`list[start : end]`"
      ]
    },
    {
      "cell_type": "code",
      "metadata": {
        "id": "HFpwOgRwCP0o",
        "colab_type": "code",
        "outputId": "6e8b018a-51d2-48e8-efbe-56ee346e5159",
        "colab": {
          "base_uri": "https://localhost:8080/",
          "height": 34
        }
      },
      "source": [
        "a[0:2] # インデックスの０番目から２番目(２番目は含まない！)まで取得"
      ],
      "execution_count": 0,
      "outputs": [
        {
          "output_type": "execute_result",
          "data": {
            "text/plain": [
              "[1, 2]"
            ]
          },
          "metadata": {
            "tags": []
          },
          "execution_count": 30
        }
      ]
    },
    {
      "cell_type": "code",
      "metadata": {
        "id": "2N6lhRLyCP0q",
        "colab_type": "code",
        "outputId": "0f7da426-3055-452a-dd7b-478104ba374d",
        "colab": {
          "base_uri": "https://localhost:8080/",
          "height": 34
        }
      },
      "source": [
        "a[1:] # インデックスの１番目から最後まで取得"
      ],
      "execution_count": 0,
      "outputs": [
        {
          "output_type": "execute_result",
          "data": {
            "text/plain": [
              "[2, 3, 4, 99]"
            ]
          },
          "metadata": {
            "tags": []
          },
          "execution_count": 31
        }
      ]
    },
    {
      "cell_type": "code",
      "metadata": {
        "scrolled": true,
        "id": "XSnrRY-rCP0t",
        "colab_type": "code",
        "outputId": "408b111c-647c-43c2-ec60-1e5b6f921b97",
        "colab": {
          "base_uri": "https://localhost:8080/",
          "height": 34
        }
      },
      "source": [
        "a[:3] # 最初からインデックスの３番目(3番目は含まない！)まで取得"
      ],
      "execution_count": 0,
      "outputs": [
        {
          "output_type": "execute_result",
          "data": {
            "text/plain": [
              "[1, 2, 3]"
            ]
          },
          "metadata": {
            "tags": []
          },
          "execution_count": 32
        }
      ]
    },
    {
      "cell_type": "code",
      "metadata": {
        "id": "wI_K5cjcCP0w",
        "colab_type": "code",
        "outputId": "59f5bddd-2e80-4b60-8c70-9568431c237c",
        "colab": {
          "base_uri": "https://localhost:8080/",
          "height": 34
        }
      },
      "source": [
        "a[:-1] # 最初から最後の要素の一つ前まで取得"
      ],
      "execution_count": 0,
      "outputs": [
        {
          "output_type": "execute_result",
          "data": {
            "text/plain": [
              "[1, 2, 3, 4]"
            ]
          },
          "metadata": {
            "tags": []
          },
          "execution_count": 33
        }
      ]
    },
    {
      "cell_type": "code",
      "metadata": {
        "id": "AWYOpSkpCP01",
        "colab_type": "code",
        "outputId": "d7f2264a-16a8-47db-d227-ee9419ca7536",
        "colab": {
          "base_uri": "https://localhost:8080/",
          "height": 34
        }
      },
      "source": [
        "a[:-2] # 最初から最後の要素の二つ前まで取得"
      ],
      "execution_count": 0,
      "outputs": [
        {
          "output_type": "execute_result",
          "data": {
            "text/plain": [
              "[1, 2, 3]"
            ]
          },
          "metadata": {
            "tags": []
          },
          "execution_count": 34
        }
      ]
    },
    {
      "cell_type": "code",
      "metadata": {
        "id": "jc2cVpV1CP07",
        "colab_type": "code",
        "colab": {}
      },
      "source": [
        "a.append(100) # リストに追加"
      ],
      "execution_count": 0,
      "outputs": []
    },
    {
      "cell_type": "code",
      "metadata": {
        "id": "0IeLa-Z6CP09",
        "colab_type": "code",
        "outputId": "6577334b-0e95-4479-9924-03d26cfd0c2f",
        "colab": {
          "base_uri": "https://localhost:8080/",
          "height": 34
        }
      },
      "source": [
        "a"
      ],
      "execution_count": 0,
      "outputs": [
        {
          "output_type": "execute_result",
          "data": {
            "text/plain": [
              "[1, 2, 3, 4, 99, 100]"
            ]
          },
          "metadata": {
            "tags": []
          },
          "execution_count": 36
        }
      ]
    },
    {
      "cell_type": "markdown",
      "metadata": {
        "id": "1qREjmF3gX1y",
        "colab_type": "text"
      },
      "source": [
        "### タプル\n",
        "リストに似ているが、タプルは一度作成されたオブジェクトの要素を変更することはできない"
      ]
    },
    {
      "cell_type": "code",
      "metadata": {
        "id": "Cfj0al2oigU5",
        "colab_type": "code",
        "colab": {}
      },
      "source": [
        "t = (2015, 2015, 2017, 2018, 2019)"
      ],
      "execution_count": 0,
      "outputs": []
    },
    {
      "cell_type": "code",
      "metadata": {
        "id": "XydW0vELit7u",
        "colab_type": "code",
        "outputId": "d2866e99-6386-4deb-ac66-aed6b2071e86",
        "colab": {
          "base_uri": "https://localhost:8080/",
          "height": 34
        }
      },
      "source": [
        "len(t)"
      ],
      "execution_count": 0,
      "outputs": [
        {
          "output_type": "execute_result",
          "data": {
            "text/plain": [
              "5"
            ]
          },
          "metadata": {
            "tags": []
          },
          "execution_count": 27
        }
      ]
    },
    {
      "cell_type": "code",
      "metadata": {
        "id": "MM6lWr-HizmS",
        "colab_type": "code",
        "outputId": "5375738a-ac4a-464a-872c-b65644256887",
        "colab": {
          "base_uri": "https://localhost:8080/",
          "height": 34
        }
      },
      "source": [
        "t[3]"
      ],
      "execution_count": 0,
      "outputs": [
        {
          "output_type": "execute_result",
          "data": {
            "text/plain": [
              "2018"
            ]
          },
          "metadata": {
            "tags": []
          },
          "execution_count": 30
        }
      ]
    },
    {
      "cell_type": "code",
      "metadata": {
        "id": "N0XAP7p5jJQz",
        "colab_type": "code",
        "outputId": "2826749e-1974-4572-bb1b-a38ffda0c1b1",
        "colab": {
          "base_uri": "https://localhost:8080/",
          "height": 34
        }
      },
      "source": [
        "t[:-1]"
      ],
      "execution_count": 0,
      "outputs": [
        {
          "output_type": "execute_result",
          "data": {
            "text/plain": [
              "(2015, 2015, 2017, 2018)"
            ]
          },
          "metadata": {
            "tags": []
          },
          "execution_count": 31
        }
      ]
    },
    {
      "cell_type": "code",
      "metadata": {
        "id": "LHmn6ljCjvQg",
        "colab_type": "code",
        "outputId": "736a8a72-446e-49b2-934d-a80caf8e0852",
        "colab": {
          "base_uri": "https://localhost:8080/",
          "height": 171
        }
      },
      "source": [
        "t[4] = 2020 # 値を代入"
      ],
      "execution_count": 0,
      "outputs": [
        {
          "output_type": "error",
          "ename": "TypeError",
          "evalue": "ignored",
          "traceback": [
            "\u001b[0;31m---------------------------------------------------------------------------\u001b[0m",
            "\u001b[0;31mTypeError\u001b[0m                                 Traceback (most recent call last)",
            "\u001b[0;32m<ipython-input-33-f94cd67b7d22>\u001b[0m in \u001b[0;36m<module>\u001b[0;34m()\u001b[0m\n\u001b[0;32m----> 1\u001b[0;31m \u001b[0mt\u001b[0m\u001b[0;34m[\u001b[0m\u001b[0;36m4\u001b[0m\u001b[0;34m]\u001b[0m \u001b[0;34m=\u001b[0m \u001b[0;36m2020\u001b[0m \u001b[0;31m# 値を代入\u001b[0m\u001b[0;34m\u001b[0m\u001b[0;34m\u001b[0m\u001b[0m\n\u001b[0m",
            "\u001b[0;31mTypeError\u001b[0m: 'tuple' object does not support item assignment"
          ]
        }
      ]
    },
    {
      "cell_type": "markdown",
      "metadata": {
        "id": "VGUwmX10CP0_",
        "colab_type": "text"
      },
      "source": [
        "### ディクショナリ\n",
        "キーと値をペアとしてデータを格納する"
      ]
    },
    {
      "cell_type": "code",
      "metadata": {
        "id": "2iX-2eUaCP0_",
        "colab_type": "code",
        "colab": {}
      },
      "source": [
        "me = {'height':180} # ディクショナリを作成"
      ],
      "execution_count": 0,
      "outputs": []
    },
    {
      "cell_type": "code",
      "metadata": {
        "id": "ACN_MNUVCP1C",
        "colab_type": "code",
        "outputId": "e947e044-7788-4b0f-e7fd-3a6ee7bc608b",
        "colab": {
          "base_uri": "https://localhost:8080/",
          "height": 34
        }
      },
      "source": [
        "me['height'] # 要素にアクセス"
      ],
      "execution_count": 0,
      "outputs": [
        {
          "output_type": "execute_result",
          "data": {
            "text/plain": [
              "180"
            ]
          },
          "metadata": {
            "tags": []
          },
          "execution_count": 35
        }
      ]
    },
    {
      "cell_type": "code",
      "metadata": {
        "id": "yYsqcrn3CP1F",
        "colab_type": "code",
        "colab": {}
      },
      "source": [
        "me['weight'] = 70 # 新しい要素を追加"
      ],
      "execution_count": 0,
      "outputs": []
    },
    {
      "cell_type": "code",
      "metadata": {
        "id": "-jS_enEqCP1M",
        "colab_type": "code",
        "outputId": "d264b576-e1b8-47e3-f1a1-2d2eae20ab50",
        "colab": {
          "base_uri": "https://localhost:8080/",
          "height": 34
        }
      },
      "source": [
        "print(me)"
      ],
      "execution_count": 0,
      "outputs": [
        {
          "output_type": "stream",
          "text": [
            "{'height': 180, 'weight': 70}\n"
          ],
          "name": "stdout"
        }
      ]
    },
    {
      "cell_type": "markdown",
      "metadata": {
        "id": "kY5_YFFuCP1P",
        "colab_type": "text"
      },
      "source": [
        "##  2-5. 制御構文"
      ]
    },
    {
      "cell_type": "markdown",
      "metadata": {
        "id": "e6RheDbhsLWi",
        "colab_type": "text"
      },
      "source": [
        "### 真(true)と偽(false)\n",
        "全てのオブジェクトは真か偽に分類することが可能\n",
        "\n",
        "- 数値型の場合は0(0、0.0、0jなど)は偽(false)、0以外は真(true)\n",
        "- 文字列型の場合は空文字列(\"\")は偽(false)、\"\"以外は真(true)\n",
        "- 空のタプル()、空のリスト[]、空のディクショナリ{}は偽(false)\n",
        "- BooleanType型の「True」は真(true)\n",
        "- BooleanType型の「False」は偽(false)\n",
        "- NoneType型の「None」は偽(false)  \n",
        "\n",
        "「True」や「False」は数値が必要とされる式の箇所で使用される場合、それぞれ\n",
        "\n",
        "「True」は数値の「1」、「False」は数値の「0」と同じように扱うことができる。"
      ]
    },
    {
      "cell_type": "markdown",
      "metadata": {
        "id": "uCPSDpk7CP1P",
        "colab_type": "text"
      },
      "source": [
        "### if文\n",
        "\n",
        "プログラムは記述した順に実行されるのが基本だが、条件によって実行する処理を分けたい場合がある\n",
        "\n",
        "- 条件に応じて、処理を分岐するには`if/else/elif` を用いる\n",
        "- if文の次の文は半角スペース4つ分のインデントを入れる必要がある(Jupyterでは自動で挿入される)\n",
        "- インテンド以下は、条件が満たされた際の処理を記述する\n"
      ]
    },
    {
      "cell_type": "markdown",
      "metadata": {
        "id": "NUmEyThIxtRI",
        "colab_type": "text"
      },
      "source": [
        "\n",
        "```\n",
        "if 条件式1:\n",
        "    条件式1が真の時に実行する処理\n",
        "elif 条件式2:\n",
        "    条件式1が偽で条件式2が真の時に実行する処理\n",
        "elif 条件式3:\n",
        "    条件式1及び条件式2が偽で条件式3が真の時に実行する処理\n",
        "else:\n",
        "    全ての条件式が偽の時に実行する処理\n",
        "\n",
        "```\n",
        "\n"
      ]
    },
    {
      "cell_type": "code",
      "metadata": {
        "id": "tGvrpU_2CP1Q",
        "colab_type": "code",
        "outputId": "a10b4b06-7311-458c-9af3-7c1a150c935b",
        "colab": {
          "base_uri": "https://localhost:8080/",
          "height": 34
        }
      },
      "source": [
        "num = 9\n",
        "if num > 10:\n",
        "    print(\"BIG\")\n",
        "elif num == 10:\n",
        "    print(\"NORMAL\")\n",
        "else:\n",
        "    print(\"SMALL\")"
      ],
      "execution_count": 0,
      "outputs": [
        {
          "output_type": "stream",
          "text": [
            "SMALL\n"
          ],
          "name": "stdout"
        }
      ]
    },
    {
      "cell_type": "markdown",
      "metadata": {
        "id": "ZxaisMGNRHIC",
        "colab_type": "text"
      },
      "source": [
        "### while文\n",
        "条件式が真だった場合、ブロック内の処理を実行する。\n",
        "\n",
        "「if」文と異なる点は、「if」文が条件式に従って1回だけブロック内の処理を実行するのに対し、\n",
        "\n",
        "「while」文はブロック内の処理を実行した後は改めて条件式を評価し、条件式が真の間は繰り返しブロック内の処理を実行する。"
      ]
    },
    {
      "cell_type": "markdown",
      "metadata": {
        "id": "nfOT-mKXTIG7",
        "colab_type": "text"
      },
      "source": [
        "\n",
        "\n",
        "```\n",
        "while 条件式:\n",
        "    条件式が真の時に実行する処理\n",
        "```\n",
        "\n"
      ]
    },
    {
      "cell_type": "code",
      "metadata": {
        "id": "8fHgAKUcThxp",
        "colab_type": "code",
        "outputId": "68e3142f-faf9-4c84-8128-28bfd78ef096",
        "colab": {
          "base_uri": "https://localhost:8080/",
          "height": 122
        }
      },
      "source": [
        "num = 0\n",
        "while num < 5:\n",
        "    print(\"num = \" + str(num))\n",
        "    num += 1\n",
        "    \n",
        "print(\"End\")"
      ],
      "execution_count": 0,
      "outputs": [
        {
          "output_type": "stream",
          "text": [
            "num = 0\n",
            "num = 1\n",
            "num = 2\n",
            "num = 3\n",
            "num = 4\n",
            "End\n"
          ],
          "name": "stdout"
        }
      ]
    },
    {
      "cell_type": "markdown",
      "metadata": {
        "id": "5TD6KFM4WmKA",
        "colab_type": "text"
      },
      "source": [
        "**break**を使用すると、それ以降の処理を行わず、for文やwhile文の繰り返し処理自体が終了する。\n",
        "\n",
        "numが3の時、breakを行っている。\n",
        "そのため、numが3の時に繰り返し処理自体が終了し、出力は2までとなる。"
      ]
    },
    {
      "cell_type": "code",
      "metadata": {
        "id": "G-bjoTLyVeRN",
        "colab_type": "code",
        "outputId": "b9611c18-6371-4653-c4a9-0747d881f7ce",
        "colab": {
          "base_uri": "https://localhost:8080/",
          "height": 87
        }
      },
      "source": [
        "num = 0\n",
        "while num < 5:\n",
        "    if num == 3:\n",
        "        break\n",
        "    print(\"num = \" + str(num))\n",
        "    num += 1\n",
        "    \n",
        "print(\"End\")"
      ],
      "execution_count": 0,
      "outputs": [
        {
          "output_type": "stream",
          "text": [
            "num = 0\n",
            "num = 1\n",
            "num = 2\n",
            "End\n"
          ],
          "name": "stdout"
        }
      ]
    },
    {
      "cell_type": "markdown",
      "metadata": {
        "id": "IzzEaGJsXTfr",
        "colab_type": "text"
      },
      "source": [
        "**continueを使用すると**、それ以降の処理を行わず、for文やwhile文のブロックの先頭に戻る。\n",
        "\n",
        "numが3の時、continueを行っている。そのため、numが3の時はprint処理を行わず、while文の先頭に戻る。"
      ]
    },
    {
      "cell_type": "code",
      "metadata": {
        "id": "jcZcrtGiWN7o",
        "colab_type": "code",
        "outputId": "c02cde5f-1b8e-476c-8049-d610cca8caa7",
        "colab": {
          "base_uri": "https://localhost:8080/",
          "height": 105
        }
      },
      "source": [
        "num = 0\n",
        "while num < 5:\n",
        "    if num == 3:\n",
        "        num += 1\n",
        "        continue\n",
        "        \n",
        "    print(\"num = \" + str(num))\n",
        "    num += 1\n",
        "    \n",
        "print(\"End\")"
      ],
      "execution_count": 0,
      "outputs": [
        {
          "output_type": "stream",
          "text": [
            "num = 0\n",
            "num = 1\n",
            "num = 2\n",
            "num = 4\n",
            "End\n"
          ],
          "name": "stdout"
        }
      ]
    },
    {
      "cell_type": "markdown",
      "metadata": {
        "id": "j2FfRqr0CP1S",
        "colab_type": "text"
      },
      "source": [
        "### for文\n",
        "- ループ処理を行うにはfor文を用いる\n",
        "- for 変数 in オブジェクト:\n",
        "\n",
        "\n",
        "C系のプログラミング言語のfor文はインデックスと継続条件を使って記述する。\n",
        "\n",
        "`for(int i = 0; i < 10; i++)`\n",
        "Pythonのfor文はC系とは違い、インデックスを使わずに記述する。"
      ]
    },
    {
      "cell_type": "markdown",
      "metadata": {
        "id": "9bxKgQkXb1I4",
        "colab_type": "text"
      },
      "source": [
        "\n",
        "\n",
        "```\n",
        "for 変数 in オブジェクト:\n",
        "    実行する処理\n",
        "```\n",
        "\n"
      ]
    },
    {
      "cell_type": "code",
      "metadata": {
        "id": "ESfZY-CwCP1T",
        "colab_type": "code",
        "outputId": "a930bb8d-f016-4dbf-c704-397c86359636",
        "colab": {
          "base_uri": "https://localhost:8080/",
          "height": 70
        }
      },
      "source": [
        "words = ['Japanese', 'English', 'French']\n",
        "for w in words:\n",
        "    print(w)"
      ],
      "execution_count": 0,
      "outputs": [
        {
          "output_type": "stream",
          "text": [
            "Japanese\n",
            "English\n",
            "French\n"
          ],
          "name": "stdout"
        }
      ]
    },
    {
      "cell_type": "markdown",
      "metadata": {
        "id": "reY0RjwTCP1V",
        "colab_type": "text"
      },
      "source": [
        "インデックスを取得したい場合は、**range()** 関数を使う"
      ]
    },
    {
      "cell_type": "code",
      "metadata": {
        "id": "emoZtEE5CP1W",
        "colab_type": "code",
        "outputId": "fab4840b-be4a-489d-a918-ccc9ebbdc77a",
        "colab": {
          "base_uri": "https://localhost:8080/",
          "height": 70
        }
      },
      "source": [
        "for i in range(3):\n",
        "    print(i)"
      ],
      "execution_count": 0,
      "outputs": [
        {
          "output_type": "stream",
          "text": [
            "0\n",
            "1\n",
            "2\n"
          ],
          "name": "stdout"
        }
      ]
    },
    {
      "cell_type": "markdown",
      "metadata": {
        "id": "9AIH3h38CP1Z",
        "colab_type": "text"
      },
      "source": [
        "範囲や増分を指定したい場合は、range(start, stop, step)のように3つの引数を指定する  \n",
        "***10*** 9 8 ***7*** 6 5 ***4*** 3 2 ***1*** 0"
      ]
    },
    {
      "cell_type": "code",
      "metadata": {
        "id": "-WQoaD9-CP1a",
        "colab_type": "code",
        "outputId": "ee92c914-c65d-41e0-e4c1-77c7a1ccccc3",
        "colab": {
          "base_uri": "https://localhost:8080/",
          "height": 87
        }
      },
      "source": [
        "for i in range(10, 0, -3):\n",
        "    print(i)"
      ],
      "execution_count": 0,
      "outputs": [
        {
          "output_type": "stream",
          "text": [
            "10\n",
            "7\n",
            "4\n",
            "1\n"
          ],
          "name": "stdout"
        }
      ]
    },
    {
      "cell_type": "markdown",
      "metadata": {
        "id": "plBHY7tGCP1c",
        "colab_type": "text"
      },
      "source": [
        "リストの要素とインデックスを同時に取得したい場合は、**enumerate()** 関数を使う。"
      ]
    },
    {
      "cell_type": "code",
      "metadata": {
        "id": "uf7k9FBCCP1d",
        "colab_type": "code",
        "outputId": "e65be890-076d-4eb2-b27f-f422a87c338f",
        "colab": {
          "base_uri": "https://localhost:8080/",
          "height": 70
        }
      },
      "source": [
        "for i, w in enumerate(words):\n",
        "    print(i, w)"
      ],
      "execution_count": 0,
      "outputs": [
        {
          "output_type": "stream",
          "text": [
            "0 Japanese\n",
            "1 English\n",
            "2 French\n"
          ],
          "name": "stdout"
        }
      ]
    },
    {
      "cell_type": "markdown",
      "metadata": {
        "id": "d07JgIC9CP1e",
        "colab_type": "text"
      },
      "source": [
        "複数のリストの要素を複数の変数としてまとめて取得したい場合は、**zip()** 関数を使う。"
      ]
    },
    {
      "cell_type": "code",
      "metadata": {
        "id": "KBajp6vjCP1e",
        "colab_type": "code",
        "outputId": "c77f0248-8d59-4b83-d162-3cb6697051fc",
        "colab": {
          "base_uri": "https://localhost:8080/",
          "height": 70
        }
      },
      "source": [
        "points = [100, 90, 80]\n",
        "for w, p in zip(words, points):\n",
        "    print(w, p)"
      ],
      "execution_count": 0,
      "outputs": [
        {
          "output_type": "stream",
          "text": [
            "Japanese 100\n",
            "English 90\n",
            "French 80\n"
          ],
          "name": "stdout"
        }
      ]
    },
    {
      "cell_type": "markdown",
      "metadata": {
        "id": "hoJiU4ueCP1h",
        "colab_type": "text"
      },
      "source": [
        "### 関数の定義と利用方法\n",
        "まとまりのある処理を関数(function)として定義することができる。"
      ]
    },
    {
      "cell_type": "code",
      "metadata": {
        "id": "u56gCt74CP1h",
        "colab_type": "code",
        "colab": {}
      },
      "source": [
        "def hello():\n",
        "    print(\"Hello World!\")"
      ],
      "execution_count": 0,
      "outputs": []
    },
    {
      "cell_type": "code",
      "metadata": {
        "id": "2lhdYUCMCP1j",
        "colab_type": "code",
        "outputId": "b9d3fefd-cdeb-4525-d66b-0e396779e1f1",
        "colab": {
          "base_uri": "https://localhost:8080/",
          "height": 34
        }
      },
      "source": [
        "hello()"
      ],
      "execution_count": 0,
      "outputs": [
        {
          "output_type": "stream",
          "text": [
            "Hello World!\n"
          ],
          "name": "stdout"
        }
      ]
    },
    {
      "cell_type": "markdown",
      "metadata": {
        "id": "8dalthFclLs4",
        "colab_type": "text"
      },
      "source": [
        "関数は引数もとることができるので、先ほどif文で出てきた例を一つの関数とすると…"
      ]
    },
    {
      "cell_type": "code",
      "metadata": {
        "id": "p2cAKyR0jLy0",
        "colab_type": "code",
        "colab": {}
      },
      "source": [
        "def judge(num):\n",
        "    if num > 10:\n",
        "        print(\"BIG\")\n",
        "    elif num == 10:\n",
        "        print(\"NORMAL\")\n",
        "    else:\n",
        "        print(\"SMALL\")"
      ],
      "execution_count": 0,
      "outputs": []
    },
    {
      "cell_type": "code",
      "metadata": {
        "id": "lJnAs01PCP1l",
        "colab_type": "code",
        "outputId": "dd62adfe-3b2b-44f4-bd94-1135f3a5982a",
        "colab": {
          "base_uri": "https://localhost:8080/",
          "height": 34
        }
      },
      "source": [
        "judge(10)"
      ],
      "execution_count": 0,
      "outputs": [
        {
          "output_type": "stream",
          "text": [
            "NORMAL\n"
          ],
          "name": "stdout"
        }
      ]
    },
    {
      "cell_type": "markdown",
      "metadata": {
        "id": "S55OzgoGCP1q",
        "colab_type": "text"
      },
      "source": [
        "### クラスとインスタンス\n",
        "クラス(class)のフォーマット  \n",
        "\n",
        "\n",
        "```\n",
        "class クラス名:\n",
        "def __init__(self, 引数, …): # コンストラクタ\n",
        "    ・・・  \n",
        "            \n",
        "def メソッド名１(self, 引数, …): # メソッド１  \n",
        "    ・・・\n",
        "```\n",
        "            \n",
        " `__init__`はコンストラクタとも呼ばれ、クラスのインスタンスが作成される際に一度だけ呼ばれる"
      ]
    },
    {
      "cell_type": "code",
      "metadata": {
        "id": "4qFaS5qMCP1q",
        "colab_type": "code",
        "colab": {}
      },
      "source": [
        "# Manという新しいクラスを定義\n",
        "class Man:\n",
        "    def __init__(self, name):\n",
        "        self.name = name\n",
        "        print(\"Initialized!\")\n",
        "    \n",
        "    def hello(self):\n",
        "        print(\"Hello \" + self.name + \"!\")\n",
        "    \n",
        "    def goodbye(self):\n",
        "        print(\"Good-bye \" + self.name + \"!\")\n",
        "        "
      ],
      "execution_count": 0,
      "outputs": []
    },
    {
      "cell_type": "code",
      "metadata": {
        "id": "T6c1W6d4CP1s",
        "colab_type": "code",
        "outputId": "838d0fd3-e1fe-4ac7-cc15-b81e0fd0193a",
        "colab": {
          "base_uri": "https://localhost:8080/",
          "height": 34
        }
      },
      "source": [
        "m = Man(\"David\")"
      ],
      "execution_count": 0,
      "outputs": [
        {
          "output_type": "stream",
          "text": [
            "Initialized!\n"
          ],
          "name": "stdout"
        }
      ]
    },
    {
      "cell_type": "code",
      "metadata": {
        "id": "iyktDrvRCP1v",
        "colab_type": "code",
        "outputId": "b9740c96-cfb7-4051-a6e0-99044ead0f1e",
        "colab": {
          "base_uri": "https://localhost:8080/",
          "height": 52
        }
      },
      "source": [
        "m.hello()\n",
        "m.goodbye()"
      ],
      "execution_count": 0,
      "outputs": [
        {
          "output_type": "stream",
          "text": [
            "Hello David!\n",
            "Good-bye David!\n"
          ],
          "name": "stdout"
        }
      ]
    },
    {
      "cell_type": "markdown",
      "metadata": {
        "id": "TV0a49puCP1y",
        "colab_type": "text"
      },
      "source": [
        "## 2-6.外部ライブラリ"
      ]
    },
    {
      "cell_type": "markdown",
      "metadata": {
        "id": "VjImxy6DfB18",
        "colab_type": "text"
      },
      "source": [
        "\n",
        "\n",
        "- モジュール：Pythonのファイル（.py）のこと\n",
        "\n",
        "\n",
        "> Pythonである程度の長いプログラムを書く場合などは、Jupitor Notebookやコマンドラインではなく.pyファイルに実行したい内容を保存する。そしてその保存された.pyファイルは、他のPythonのプログラムからimportで呼び出して使うことも出来る。\n",
        "\n",
        "\n",
        "- パッケージ：モジュールをいくつか集めてまとめたもの\n",
        "- ライブラリ：いくつかのパッケージをまとめて一つのライブラリとしてインストールできるようにしたもの\n",
        "\n",
        "\n",
        "> 「外部」とは、標準のPythonには含まれていないということ\n",
        "\n",
        "\n",
        ">  　import ライブラリ名 as 別名\n",
        "\n",
        "\n",
        "\n",
        "\n",
        "\n"
      ]
    },
    {
      "cell_type": "code",
      "metadata": {
        "id": "m8C-uCqlCP1y",
        "colab_type": "code",
        "colab": {}
      },
      "source": [
        "import numpy as np"
      ],
      "execution_count": 0,
      "outputs": []
    },
    {
      "cell_type": "markdown",
      "metadata": {
        "id": "uOm--e_oCP1z",
        "colab_type": "text"
      },
      "source": [
        "### Numpy(数値計算)\n",
        "- 数値計算のためのライブラリ\n",
        "- 高度な数学のアルゴリズムや配列(行列)を操作するための便利なメソッドが数多く用意されている"
      ]
    },
    {
      "cell_type": "code",
      "metadata": {
        "id": "0BGFfgTPCP11",
        "colab_type": "code",
        "colab": {}
      },
      "source": [
        "x = np.array([1.0, 2.0, 3.0]) # NumPy配列の生成\n",
        "y = np.array([4.0, 5.0, 6.0])"
      ],
      "execution_count": 0,
      "outputs": []
    },
    {
      "cell_type": "code",
      "metadata": {
        "id": "QXk6FIB_CP12",
        "colab_type": "code",
        "outputId": "ba334a50-aff7-451c-d3b1-a4c9cb25e97a",
        "colab": {
          "base_uri": "https://localhost:8080/",
          "height": 34
        }
      },
      "source": [
        "print(x)"
      ],
      "execution_count": 0,
      "outputs": [
        {
          "output_type": "stream",
          "text": [
            "[1. 2. 3.]\n"
          ],
          "name": "stdout"
        }
      ]
    },
    {
      "cell_type": "code",
      "metadata": {
        "id": "cFr_6ZkgCP14",
        "colab_type": "code",
        "outputId": "6f7bf2aa-910c-4af7-8cff-ccf6501411cb",
        "colab": {
          "base_uri": "https://localhost:8080/",
          "height": 34
        }
      },
      "source": [
        "type(x)"
      ],
      "execution_count": 0,
      "outputs": [
        {
          "output_type": "execute_result",
          "data": {
            "text/plain": [
              "numpy.ndarray"
            ]
          },
          "metadata": {
            "tags": []
          },
          "execution_count": 57
        }
      ]
    },
    {
      "cell_type": "markdown",
      "metadata": {
        "id": "LMxiP5RTCP19",
        "colab_type": "text"
      },
      "source": [
        "算術計算は各要素に対して行われるため、xとyの要素数を合わせることが大切"
      ]
    },
    {
      "cell_type": "code",
      "metadata": {
        "id": "4tmT-NOzCP19",
        "colab_type": "code",
        "outputId": "12596909-23c2-4035-9e24-3193ac887e4f",
        "colab": {
          "base_uri": "https://localhost:8080/",
          "height": 34
        }
      },
      "source": [
        "x + y # 要素ごとの足し算"
      ],
      "execution_count": 0,
      "outputs": [
        {
          "output_type": "execute_result",
          "data": {
            "text/plain": [
              "array([5., 7., 9.])"
            ]
          },
          "metadata": {
            "tags": []
          },
          "execution_count": 58
        }
      ]
    },
    {
      "cell_type": "code",
      "metadata": {
        "id": "QJjUvZftCP2C",
        "colab_type": "code",
        "outputId": "d911ac81-4ad5-4364-fa12-f7929cd97711",
        "colab": {
          "base_uri": "https://localhost:8080/",
          "height": 34
        }
      },
      "source": [
        "x - y"
      ],
      "execution_count": 0,
      "outputs": [
        {
          "output_type": "execute_result",
          "data": {
            "text/plain": [
              "array([-3., -3., -3.])"
            ]
          },
          "metadata": {
            "tags": []
          },
          "execution_count": 59
        }
      ]
    },
    {
      "cell_type": "code",
      "metadata": {
        "id": "3JRP7L6PCP2F",
        "colab_type": "code",
        "outputId": "14e95694-9c52-4c48-fa64-d3b25500af55",
        "colab": {
          "base_uri": "https://localhost:8080/",
          "height": 34
        }
      },
      "source": [
        "x * y"
      ],
      "execution_count": 0,
      "outputs": [
        {
          "output_type": "execute_result",
          "data": {
            "text/plain": [
              "array([ 4., 10., 18.])"
            ]
          },
          "metadata": {
            "tags": []
          },
          "execution_count": 60
        }
      ]
    },
    {
      "cell_type": "code",
      "metadata": {
        "id": "QsDV-as5CP2L",
        "colab_type": "code",
        "outputId": "48549515-9319-4f11-fcdf-c35779a67f54",
        "colab": {
          "base_uri": "https://localhost:8080/",
          "height": 34
        }
      },
      "source": [
        "x / y"
      ],
      "execution_count": 0,
      "outputs": [
        {
          "output_type": "execute_result",
          "data": {
            "text/plain": [
              "array([0.25, 0.4 , 0.5 ])"
            ]
          },
          "metadata": {
            "tags": []
          },
          "execution_count": 61
        }
      ]
    },
    {
      "cell_type": "code",
      "metadata": {
        "id": "dAtYZot9CP2R",
        "colab_type": "code",
        "outputId": "cbbf9bc4-5f52-4aa7-fafc-cdbaae5d46f5",
        "colab": {
          "base_uri": "https://localhost:8080/",
          "height": 34
        }
      },
      "source": [
        "x"
      ],
      "execution_count": 0,
      "outputs": [
        {
          "output_type": "execute_result",
          "data": {
            "text/plain": [
              "array([1., 2., 3.])"
            ]
          },
          "metadata": {
            "tags": []
          },
          "execution_count": 62
        }
      ]
    },
    {
      "cell_type": "markdown",
      "metadata": {
        "id": "W_maVt3y31_o",
        "colab_type": "text"
      },
      "source": [
        ""
      ]
    },
    {
      "cell_type": "code",
      "metadata": {
        "id": "xQ-ILwOpCP2T",
        "colab_type": "code",
        "outputId": "1dbbe0b4-9286-4dee-d9cf-a9be9e8fb367",
        "colab": {
          "base_uri": "https://localhost:8080/",
          "height": 34
        }
      },
      "source": [
        "x / 2.0"
      ],
      "execution_count": 0,
      "outputs": [
        {
          "output_type": "execute_result",
          "data": {
            "text/plain": [
              "array([0.5, 1. , 1.5])"
            ]
          },
          "metadata": {
            "tags": []
          },
          "execution_count": 63
        }
      ]
    },
    {
      "cell_type": "markdown",
      "metadata": {
        "id": "Gboi-fKOCP2Y",
        "colab_type": "text"
      },
      "source": [
        "N次元配列\n",
        "- １次元配列は「ベクトル」\n",
        "- ２次元配列は「行列」\n",
        "- ３次元以上の配列は「テンソル」\n",
        "\n",
        "$$\n",
        "  A = \\left(\n",
        "    \\begin{array}{ccc}\n",
        "      1 & 2 & 3 \\\\\n",
        "      4 & 5 & 6 \n",
        "    \\end{array}\n",
        "  \\right)\n",
        "$$"
      ]
    },
    {
      "cell_type": "code",
      "metadata": {
        "id": "4txuY8UFCP2Y",
        "colab_type": "code",
        "colab": {}
      },
      "source": [
        "A = np.array([[1, 2, 3], [4, 5, 6]])"
      ],
      "execution_count": 0,
      "outputs": []
    },
    {
      "cell_type": "markdown",
      "metadata": {
        "id": "J4zUjELE28gB",
        "colab_type": "text"
      },
      "source": [
        ""
      ]
    },
    {
      "cell_type": "code",
      "metadata": {
        "id": "vJ23hKuSCP2a",
        "colab_type": "code",
        "outputId": "41390039-2431-43f8-f93d-c641ed53ed32",
        "colab": {
          "base_uri": "https://localhost:8080/",
          "height": 52
        }
      },
      "source": [
        "print(A)"
      ],
      "execution_count": 0,
      "outputs": [
        {
          "output_type": "stream",
          "text": [
            "[[1 2 3]\n",
            " [4 5 6]]\n"
          ],
          "name": "stdout"
        }
      ]
    },
    {
      "cell_type": "code",
      "metadata": {
        "id": "5LulYy0zCP2b",
        "colab_type": "code",
        "outputId": "f238c65b-0f21-402b-f3c5-bc55a79374a1",
        "colab": {
          "base_uri": "https://localhost:8080/",
          "height": 34
        }
      },
      "source": [
        "A.shape # 形状を参照"
      ],
      "execution_count": 0,
      "outputs": [
        {
          "output_type": "execute_result",
          "data": {
            "text/plain": [
              "(2, 3)"
            ]
          },
          "metadata": {
            "tags": []
          },
          "execution_count": 66
        }
      ]
    },
    {
      "cell_type": "code",
      "metadata": {
        "id": "7yif8KPrCP2f",
        "colab_type": "code",
        "outputId": "19945e6b-71a3-4554-bb90-7200117a7960",
        "colab": {
          "base_uri": "https://localhost:8080/",
          "height": 34
        }
      },
      "source": [
        "A.dtype # 要素のデータ型を参照"
      ],
      "execution_count": 0,
      "outputs": [
        {
          "output_type": "execute_result",
          "data": {
            "text/plain": [
              "dtype('int64')"
            ]
          },
          "metadata": {
            "tags": []
          },
          "execution_count": 67
        }
      ]
    },
    {
      "cell_type": "code",
      "metadata": {
        "id": "Yrc45u6DCP2j",
        "colab_type": "code",
        "outputId": "1a340f6d-4013-4606-af90-0f9b3abaa7f7",
        "colab": {
          "base_uri": "https://localhost:8080/",
          "height": 34
        }
      },
      "source": [
        "print(\"行列Aの大きさ:\", A.shape)"
      ],
      "execution_count": 0,
      "outputs": [
        {
          "output_type": "stream",
          "text": [
            "行列Aの大きさ: (2, 3)\n"
          ],
          "name": "stdout"
        }
      ]
    },
    {
      "cell_type": "code",
      "metadata": {
        "id": "e57Zg0gkCP2o",
        "colab_type": "code",
        "outputId": "e0a8b7a9-f617-40cf-88cd-528bb1de6e4d",
        "colab": {
          "base_uri": "https://localhost:8080/",
          "height": 34
        }
      },
      "source": [
        "print(\"行列Aの行数:\", A.shape[0])"
      ],
      "execution_count": 0,
      "outputs": [
        {
          "output_type": "stream",
          "text": [
            "行列Aの行数: 2\n"
          ],
          "name": "stdout"
        }
      ]
    },
    {
      "cell_type": "markdown",
      "metadata": {
        "id": "pGHv9jmiCP2q",
        "colab_type": "text"
      },
      "source": [
        "$$\n",
        "  A = \\left(\n",
        "    \\begin{array}{ccc}\n",
        "      1 & 2 & 3 \\\\\n",
        "      4 & 5 & 6 \n",
        "    \\end{array}\n",
        "  \\right)\n",
        "$$\n",
        "$$\n",
        " B = \\left(\n",
        "    \\begin{array}{ccc}\n",
        "      3 & 2 & 1 \\\\\n",
        "      0 & 1 & 2 \n",
        "    \\end{array}\n",
        "  \\right)\n",
        "$$"
      ]
    },
    {
      "cell_type": "code",
      "metadata": {
        "id": "o7fy1bKECP2q",
        "colab_type": "code",
        "colab": {}
      },
      "source": [
        "B = np.array([[3, 2, 1], [0, 1, 2]])"
      ],
      "execution_count": 0,
      "outputs": []
    },
    {
      "cell_type": "code",
      "metadata": {
        "id": "OYIzwGqXCP2r",
        "colab_type": "code",
        "outputId": "39a96b60-632c-46e6-a42e-4400e4c2b0ae",
        "colab": {
          "base_uri": "https://localhost:8080/",
          "height": 52
        }
      },
      "source": [
        "A + B"
      ],
      "execution_count": 0,
      "outputs": [
        {
          "output_type": "execute_result",
          "data": {
            "text/plain": [
              "array([[4, 4, 4],\n",
              "       [4, 6, 8]])"
            ]
          },
          "metadata": {
            "tags": []
          },
          "execution_count": 71
        }
      ]
    },
    {
      "cell_type": "code",
      "metadata": {
        "id": "Dlrzg_WOCP2s",
        "colab_type": "code",
        "outputId": "78917ff6-6e75-49ee-bcb1-76bae9d1a17a",
        "colab": {
          "base_uri": "https://localhost:8080/",
          "height": 52
        }
      },
      "source": [
        "A * B"
      ],
      "execution_count": 0,
      "outputs": [
        {
          "output_type": "execute_result",
          "data": {
            "text/plain": [
              "array([[ 3,  4,  3],\n",
              "       [ 0,  5, 12]])"
            ]
          },
          "metadata": {
            "tags": []
          },
          "execution_count": 72
        }
      ]
    },
    {
      "cell_type": "markdown",
      "metadata": {
        "id": "kHu3raGOCP2t",
        "colab_type": "text"
      },
      "source": [
        "要素へのアクセス\n",
        "$$\n",
        " X = \\left(\n",
        "    \\begin{array}{cc}\n",
        "      30 & 40 \\\\\n",
        "      51 & 61 \\\\\n",
        "      77 & 89\n",
        "    \\end{array}\n",
        "  \\right)\n",
        "$$"
      ]
    },
    {
      "cell_type": "code",
      "metadata": {
        "id": "bt-DsO1-CP2t",
        "colab_type": "code",
        "outputId": "f25ad177-dacb-4bf7-bd27-e93ffdd51429",
        "colab": {
          "base_uri": "https://localhost:8080/",
          "height": 70
        }
      },
      "source": [
        "X = np.array([[30, 40], [51, 61], [77, 89]])\n",
        "print(X)"
      ],
      "execution_count": 0,
      "outputs": [
        {
          "output_type": "stream",
          "text": [
            "[[30 40]\n",
            " [51 61]\n",
            " [77 89]]\n"
          ],
          "name": "stdout"
        }
      ]
    },
    {
      "cell_type": "code",
      "metadata": {
        "id": "QHSqduhaCP2v",
        "colab_type": "code",
        "outputId": "d6a85e4c-2421-41bd-d427-f3d04676f339",
        "colab": {
          "base_uri": "https://localhost:8080/",
          "height": 34
        }
      },
      "source": [
        "X[0] # 1行目"
      ],
      "execution_count": 0,
      "outputs": [
        {
          "output_type": "execute_result",
          "data": {
            "text/plain": [
              "array([30, 40])"
            ]
          },
          "metadata": {
            "tags": []
          },
          "execution_count": 74
        }
      ]
    },
    {
      "cell_type": "code",
      "metadata": {
        "id": "BD_yMVjwCP2w",
        "colab_type": "code",
        "outputId": "19c01c14-a428-4ec4-d384-a3524088d4b2",
        "colab": {
          "base_uri": "https://localhost:8080/",
          "height": 34
        }
      },
      "source": [
        "X[2][1] # 3行目２列目の要素"
      ],
      "execution_count": 0,
      "outputs": [
        {
          "output_type": "execute_result",
          "data": {
            "text/plain": [
              "89"
            ]
          },
          "metadata": {
            "tags": []
          },
          "execution_count": 75
        }
      ]
    },
    {
      "cell_type": "code",
      "metadata": {
        "id": "zn_nVOyxCP2x",
        "colab_type": "code",
        "outputId": "3b325fb5-4376-4b19-9605-60c0290a08b2",
        "colab": {
          "base_uri": "https://localhost:8080/",
          "height": 70
        }
      },
      "source": [
        "for row in X:\n",
        "    print(row)"
      ],
      "execution_count": 0,
      "outputs": [
        {
          "output_type": "stream",
          "text": [
            "[30 40]\n",
            "[51 61]\n",
            "[77 89]\n"
          ],
          "name": "stdout"
        }
      ]
    },
    {
      "cell_type": "code",
      "metadata": {
        "id": "9S3PZ2_LCP2z",
        "colab_type": "code",
        "outputId": "527f9cc8-7565-4d02-f88b-4b7085233f51",
        "colab": {
          "base_uri": "https://localhost:8080/",
          "height": 34
        }
      },
      "source": [
        "X = X.flatten() # Xを一次元配列への変換\n",
        "print(X)"
      ],
      "execution_count": 0,
      "outputs": [
        {
          "output_type": "stream",
          "text": [
            "[30 40 51 61 77 89]\n"
          ],
          "name": "stdout"
        }
      ]
    },
    {
      "cell_type": "code",
      "metadata": {
        "id": "GMldsdP0CP20",
        "colab_type": "code",
        "outputId": "5463c8e1-e416-442c-889c-2ab281e354f1",
        "colab": {
          "base_uri": "https://localhost:8080/",
          "height": 34
        }
      },
      "source": [
        "X[np.array([0, 1, 5])] # インデックスがo, 1, 5番目の要素を取得"
      ],
      "execution_count": 0,
      "outputs": [
        {
          "output_type": "execute_result",
          "data": {
            "text/plain": [
              "array([30, 40, 89])"
            ]
          },
          "metadata": {
            "tags": []
          },
          "execution_count": 78
        }
      ]
    },
    {
      "cell_type": "code",
      "metadata": {
        "id": "2mqsHf4uCP22",
        "colab_type": "code",
        "outputId": "921c5703-3051-4fc7-cf8a-b8c9062a32a3",
        "colab": {
          "base_uri": "https://localhost:8080/",
          "height": 34
        }
      },
      "source": [
        "X > 50"
      ],
      "execution_count": 0,
      "outputs": [
        {
          "output_type": "execute_result",
          "data": {
            "text/plain": [
              "array([False, False,  True,  True,  True,  True])"
            ]
          },
          "metadata": {
            "tags": []
          },
          "execution_count": 79
        }
      ]
    },
    {
      "cell_type": "code",
      "metadata": {
        "id": "tPooDmw0CP23",
        "colab_type": "code",
        "outputId": "c6192cdc-08d1-4a56-8c46-a259fde2ef2c",
        "colab": {
          "base_uri": "https://localhost:8080/",
          "height": 34
        }
      },
      "source": [
        "X[X > 50] # ブーリアン配列のTrueに対応する要素を取り出す"
      ],
      "execution_count": 0,
      "outputs": [
        {
          "output_type": "execute_result",
          "data": {
            "text/plain": [
              "array([51, 61, 77, 89])"
            ]
          },
          "metadata": {
            "tags": []
          },
          "execution_count": 80
        }
      ]
    },
    {
      "cell_type": "markdown",
      "metadata": {
        "id": "11nv4brWCP25",
        "colab_type": "text"
      },
      "source": [
        "### Matplotlib(グラフ描画)\n",
        "- グラフ描画のためのライブラリ\n",
        "- 実験結果の可視化や、実行途中のデータを視覚的に確認することができる\n"
      ]
    },
    {
      "cell_type": "code",
      "metadata": {
        "id": "rlsmRxiOFKU4",
        "colab_type": "code",
        "outputId": "b2976e7e-a284-437f-e092-afdfc7edcfda",
        "colab": {
          "base_uri": "https://localhost:8080/",
          "height": 1020
        }
      },
      "source": [
        "!unzip image.zip\n",
        "!unzip data.zip"
      ],
      "execution_count": 0,
      "outputs": [
        {
          "output_type": "stream",
          "text": [
            "Archive:  image.zip\n",
            "replace image/activation_f.png? [y]es, [n]o, [A]ll, [N]one, [r]ename: A\n",
            "  inflating: image/activation_f.png  \n",
            "  inflating: image/Adam.jpg          \n",
            "  inflating: image/back_pro_1.png    \n",
            "  inflating: image/back_pro_2png.png  \n",
            "  inflating: image/calfornia.png     \n",
            "  inflating: image/CBOW.png          \n",
            "  inflating: image/cifar10.png       \n",
            "  inflating: image/CNN_image1.png    \n",
            "  inflating: image/CNN_layer.png     \n",
            "  inflating: image/Conv_3D.png       \n",
            "  inflating: image/Conv_Calc.png     \n",
            "  inflating: image/Conv_Padding.png  \n",
            "  inflating: image/Conv_Stride.png   \n",
            "  inflating: image/dropout.png       \n",
            "  inflating: image/embedding.png     \n",
            "  inflating: image/GRU.png           \n",
            "  inflating: image/image_handling.png  \n",
            "  inflating: image/keitaiso.png      \n",
            "  inflating: image/learning_rate_01.png  \n",
            "  inflating: image/learning_rate_02.png  \n",
            "  inflating: image/learning_rate_03.png  \n",
            "  inflating: image/learning_rate_04.png  \n",
            "  inflating: image/learning_rate_05.png  \n",
            "  inflating: image/LSTM.png          \n",
            "  inflating: image/momentum.jpg      \n",
            "  inflating: image/momentum.png      \n",
            "  inflating: image/neuron.png        \n",
            "  inflating: image/NLP.png           \n",
            "  inflating: image/nn.png            \n",
            "  inflating: image/overfitting.png   \n",
            "  inflating: image/perceptron.png    \n",
            "  inflating: image/percep_bias.png   \n",
            "  inflating: image/Poly_degree.png   \n",
            "  inflating: image/Poly_features.png  \n",
            "  inflating: image/Pooling_1.png     \n",
            "  inflating: image/Pooling_2.png     \n",
            "  inflating: image/relu.png          \n",
            "  inflating: image/RNN.png           \n",
            "  inflating: image/RNN_Tag.png       \n",
            "  inflating: image/RNN_topology.png  \n",
            "  inflating: image/Seq2Seq.png       \n",
            "  inflating: image/SGD.jpg           \n",
            "  inflating: image/sigmoid.png       \n",
            "  inflating: image/skipgram.png      \n",
            "  inflating: image/step.png          \n",
            "  inflating: image/step_f.png        \n",
            "  inflating: image/tf_01.png         \n",
            "  inflating: image/tf_02.png         \n",
            "Archive:  data.zip\n",
            "  inflating: data/alice_in_wonderland.txt  \n",
            "  inflating: data/foo.csv            \n",
            "  inflating: data/ken.csv            \n",
            "  inflating: data/points.csv         \n",
            "  inflating: data/text8              \n",
            "  inflating: data/titanic.csv        \n"
          ],
          "name": "stdout"
        }
      ]
    },
    {
      "cell_type": "code",
      "metadata": {
        "id": "E6dWR3g_CP25",
        "colab_type": "code",
        "colab": {}
      },
      "source": [
        "import matplotlib.pyplot as plt"
      ],
      "execution_count": 0,
      "outputs": []
    },
    {
      "cell_type": "code",
      "metadata": {
        "id": "_hsB1WzKCP27",
        "colab_type": "code",
        "colab": {}
      },
      "source": [
        "# データの作成\n",
        "x = np.arange(-5, 5, 0.2) # -5から5まで0.2刻みで生成\n",
        "y = np.sin(x)"
      ],
      "execution_count": 0,
      "outputs": []
    },
    {
      "cell_type": "code",
      "metadata": {
        "id": "fzCiVWK4CP2-",
        "colab_type": "code",
        "outputId": "baf24b43-7177-4763-8e31-31d934a31733",
        "colab": {
          "base_uri": "https://localhost:8080/",
          "height": 269
        }
      },
      "source": [
        "# グラフの描画\n",
        "plt.plot(x, y)\n",
        "plt.show()"
      ],
      "execution_count": 0,
      "outputs": [
        {
          "output_type": "display_data",
          "data": {
            "image/png": "[encoded data removed]",
            "text/plain": [
              "<Figure size 432x288 with 1 Axes>"
            ]
          },
          "metadata": {
            "tags": []
          }
        }
      ]
    },
    {
      "cell_type": "code",
      "metadata": {
        "id": "OO7faTW0CP3B",
        "colab_type": "code",
        "colab": {}
      },
      "source": [
        "y1 = np.sin(x)\n",
        "y2 = np.cos(x)"
      ],
      "execution_count": 0,
      "outputs": []
    },
    {
      "cell_type": "code",
      "metadata": {
        "id": "5L8Ut3k7CP3B",
        "colab_type": "code",
        "outputId": "e6554b8c-ca8e-496e-ca95-b00ab8c43909",
        "colab": {
          "base_uri": "https://localhost:8080/",
          "height": 295
        }
      },
      "source": [
        "# グラフの描画\n",
        "plt.plot(x, y1, label=\"sin\")\n",
        "plt.plot(x, y2, linestyle=\"--\", label=\"cos\") # 破線で描画\n",
        "plt.xlabel(\"x\") # x軸のラベル\n",
        "plt.ylabel(\"y\") # y軸のラベル\n",
        "plt.title(\"sin & cos\") # タイトル\n",
        "plt.legend() # 凡例を表示\n",
        "plt.show()"
      ],
      "execution_count": 0,
      "outputs": [
        {
          "output_type": "display_data",
          "data": {
            "image/png": "[encoded data removed]",
            "text/plain": [
              "<Figure size 432x288 with 1 Axes>"
            ]
          },
          "metadata": {
            "tags": []
          }
        }
      ]
    },
    {
      "cell_type": "code",
      "metadata": {
        "id": "Rwrkm0MwCP3E",
        "colab_type": "code",
        "colab": {}
      },
      "source": [
        "import matplotlib.pyplot as plt\n",
        "from matplotlib.image import imread"
      ],
      "execution_count": 0,
      "outputs": []
    },
    {
      "cell_type": "code",
      "metadata": {
        "id": "KwFLQRDJCP3F",
        "colab_type": "code",
        "outputId": "53e97f20-25e8-4245-f989-3b50afa4ffc6",
        "colab": {
          "base_uri": "https://localhost:8080/",
          "height": 286
        }
      },
      "source": [
        "img = imread('image/CNN_image1.png') # 画像の読み込み\n",
        "plt.imshow(img)"
      ],
      "execution_count": 0,
      "outputs": [
        {
          "output_type": "execute_result",
          "data": {
            "text/plain": [
              "<matplotlib.image.AxesImage at 0x7f11e7a1b3c8>"
            ]
          },
          "metadata": {
            "tags": []
          },
          "execution_count": 99
        },
        {
          "output_type": "display_data",
          "data": {
            "image/png": "[encoded data removed]",
            "text/plain": [
              "<Figure size 432x288 with 1 Axes>"
            ]
          },
          "metadata": {
            "tags": []
          }
        }
      ]
    },
    {
      "cell_type": "markdown",
      "metadata": {
        "id": "llZt_NmrCP3I",
        "colab_type": "text"
      },
      "source": [
        "### Pandas(データフレーム)\n",
        "- データフレームとは、データ分析を行う上で便利な表形式のデータ構造\n",
        "- R にもデータフレームという概念があるが、Python でも Pandas を利用することでデータフレームを扱うことができる"
      ]
    },
    {
      "cell_type": "code",
      "metadata": {
        "id": "x9NuWgVfCP3I",
        "colab_type": "code",
        "colab": {}
      },
      "source": [
        "import pandas as pd"
      ],
      "execution_count": 0,
      "outputs": []
    },
    {
      "cell_type": "code",
      "metadata": {
        "id": "AJCs_nNkCP3K",
        "colab_type": "code",
        "outputId": "571f7c99-75a7-455e-afee-af6fcd90d866",
        "colab": {
          "base_uri": "https://localhost:8080/",
          "height": 70
        }
      },
      "source": [
        "dates = pd.date_range('20180101', periods=7)\n",
        "dates"
      ],
      "execution_count": 0,
      "outputs": [
        {
          "output_type": "execute_result",
          "data": {
            "text/plain": [
              "DatetimeIndex(['2018-01-01', '2018-01-02', '2018-01-03', '2018-01-04',\n",
              "               '2018-01-05', '2018-01-06', '2018-01-07'],\n",
              "              dtype='datetime64[ns]', freq='D')"
            ]
          },
          "metadata": {
            "tags": []
          },
          "execution_count": 101
        }
      ]
    },
    {
      "cell_type": "code",
      "metadata": {
        "id": "SmhLRZcACP3N",
        "colab_type": "code",
        "colab": {}
      },
      "source": [
        "# DataFrameオブジェクトの作成\n",
        "df = pd.DataFrame(np.random.randn(7,4), index=dates, columns=list('ABCD'))"
      ],
      "execution_count": 0,
      "outputs": []
    },
    {
      "cell_type": "code",
      "metadata": {
        "id": "t7vxhF_OCP3P",
        "colab_type": "code",
        "outputId": "2b5a3f2e-8bca-4dcd-fe56-64f39f5a0959",
        "colab": {
          "base_uri": "https://localhost:8080/",
          "height": 254
        }
      },
      "source": [
        "df"
      ],
      "execution_count": 0,
      "outputs": [
        {
          "output_type": "execute_result",
          "data": {
            "text/html": [
              "<div>\n",
              "<style scoped>\n",
              "    .dataframe tbody tr th:only-of-type {\n",
              "        vertical-align: middle;\n",
              "    }\n",
              "\n",
              "    .dataframe tbody tr th {\n",
              "        vertical-align: top;\n",
              "    }\n",
              "\n",
              "    .dataframe thead th {\n",
              "        text-align: right;\n",
              "    }\n",
              "</style>\n",
              "<table border=\"1\" class=\"dataframe\">\n",
              "  <thead>\n",
              "    <tr style=\"text-align: right;\">\n",
              "      <th></th>\n",
              "      <th>A</th>\n",
              "      <th>B</th>\n",
              "      <th>C</th>\n",
              "      <th>D</th>\n",
              "    </tr>\n",
              "  </thead>\n",
              "  <tbody>\n",
              "    <tr>\n",
              "      <th>2018-01-01</th>\n",
              "      <td>0.457719</td>\n",
              "      <td>1.492827</td>\n",
              "      <td>0.193177</td>\n",
              "      <td>0.483884</td>\n",
              "    </tr>\n",
              "    <tr>\n",
              "      <th>2018-01-02</th>\n",
              "      <td>1.784866</td>\n",
              "      <td>-1.830210</td>\n",
              "      <td>0.965679</td>\n",
              "      <td>1.336611</td>\n",
              "    </tr>\n",
              "    <tr>\n",
              "      <th>2018-01-03</th>\n",
              "      <td>0.291924</td>\n",
              "      <td>-1.037130</td>\n",
              "      <td>1.242587</td>\n",
              "      <td>-0.947853</td>\n",
              "    </tr>\n",
              "    <tr>\n",
              "      <th>2018-01-04</th>\n",
              "      <td>0.075534</td>\n",
              "      <td>0.108939</td>\n",
              "      <td>-0.038895</td>\n",
              "      <td>-1.617307</td>\n",
              "    </tr>\n",
              "    <tr>\n",
              "      <th>2018-01-05</th>\n",
              "      <td>0.909783</td>\n",
              "      <td>0.942796</td>\n",
              "      <td>-0.847710</td>\n",
              "      <td>-0.597742</td>\n",
              "    </tr>\n",
              "    <tr>\n",
              "      <th>2018-01-06</th>\n",
              "      <td>-0.478062</td>\n",
              "      <td>0.822638</td>\n",
              "      <td>0.068093</td>\n",
              "      <td>-0.178289</td>\n",
              "    </tr>\n",
              "    <tr>\n",
              "      <th>2018-01-07</th>\n",
              "      <td>0.586064</td>\n",
              "      <td>-1.420183</td>\n",
              "      <td>-0.828318</td>\n",
              "      <td>0.615101</td>\n",
              "    </tr>\n",
              "  </tbody>\n",
              "</table>\n",
              "</div>"
            ],
            "text/plain": [
              "                   A         B         C         D\n",
              "2018-01-01  0.457719  1.492827  0.193177  0.483884\n",
              "2018-01-02  1.784866 -1.830210  0.965679  1.336611\n",
              "2018-01-03  0.291924 -1.037130  1.242587 -0.947853\n",
              "2018-01-04  0.075534  0.108939 -0.038895 -1.617307\n",
              "2018-01-05  0.909783  0.942796 -0.847710 -0.597742\n",
              "2018-01-06 -0.478062  0.822638  0.068093 -0.178289\n",
              "2018-01-07  0.586064 -1.420183 -0.828318  0.615101"
            ]
          },
          "metadata": {
            "tags": []
          },
          "execution_count": 103
        }
      ]
    },
    {
      "cell_type": "code",
      "metadata": {
        "id": "XyfEVoXTCP3Q",
        "colab_type": "code",
        "outputId": "4413e488-e02b-4d83-cc0a-7d3675f6d28b",
        "colab": {
          "base_uri": "https://localhost:8080/",
          "height": 195
        }
      },
      "source": [
        "df.head() # 先頭５行を表示"
      ],
      "execution_count": 0,
      "outputs": [
        {
          "output_type": "execute_result",
          "data": {
            "text/html": [
              "<div>\n",
              "<style scoped>\n",
              "    .dataframe tbody tr th:only-of-type {\n",
              "        vertical-align: middle;\n",
              "    }\n",
              "\n",
              "    .dataframe tbody tr th {\n",
              "        vertical-align: top;\n",
              "    }\n",
              "\n",
              "    .dataframe thead th {\n",
              "        text-align: right;\n",
              "    }\n",
              "</style>\n",
              "<table border=\"1\" class=\"dataframe\">\n",
              "  <thead>\n",
              "    <tr style=\"text-align: right;\">\n",
              "      <th></th>\n",
              "      <th>A</th>\n",
              "      <th>B</th>\n",
              "      <th>C</th>\n",
              "      <th>D</th>\n",
              "    </tr>\n",
              "  </thead>\n",
              "  <tbody>\n",
              "    <tr>\n",
              "      <th>2018-01-01</th>\n",
              "      <td>0.457719</td>\n",
              "      <td>1.492827</td>\n",
              "      <td>0.193177</td>\n",
              "      <td>0.483884</td>\n",
              "    </tr>\n",
              "    <tr>\n",
              "      <th>2018-01-02</th>\n",
              "      <td>1.784866</td>\n",
              "      <td>-1.830210</td>\n",
              "      <td>0.965679</td>\n",
              "      <td>1.336611</td>\n",
              "    </tr>\n",
              "    <tr>\n",
              "      <th>2018-01-03</th>\n",
              "      <td>0.291924</td>\n",
              "      <td>-1.037130</td>\n",
              "      <td>1.242587</td>\n",
              "      <td>-0.947853</td>\n",
              "    </tr>\n",
              "    <tr>\n",
              "      <th>2018-01-04</th>\n",
              "      <td>0.075534</td>\n",
              "      <td>0.108939</td>\n",
              "      <td>-0.038895</td>\n",
              "      <td>-1.617307</td>\n",
              "    </tr>\n",
              "    <tr>\n",
              "      <th>2018-01-05</th>\n",
              "      <td>0.909783</td>\n",
              "      <td>0.942796</td>\n",
              "      <td>-0.847710</td>\n",
              "      <td>-0.597742</td>\n",
              "    </tr>\n",
              "  </tbody>\n",
              "</table>\n",
              "</div>"
            ],
            "text/plain": [
              "                   A         B         C         D\n",
              "2018-01-01  0.457719  1.492827  0.193177  0.483884\n",
              "2018-01-02  1.784866 -1.830210  0.965679  1.336611\n",
              "2018-01-03  0.291924 -1.037130  1.242587 -0.947853\n",
              "2018-01-04  0.075534  0.108939 -0.038895 -1.617307\n",
              "2018-01-05  0.909783  0.942796 -0.847710 -0.597742"
            ]
          },
          "metadata": {
            "tags": []
          },
          "execution_count": 104
        }
      ]
    },
    {
      "cell_type": "code",
      "metadata": {
        "id": "eo-8GkD4CP3S",
        "colab_type": "code",
        "outputId": "f8a549cf-2c2f-424c-b6d6-cda3596b716c",
        "colab": {
          "base_uri": "https://localhost:8080/",
          "height": 136
        }
      },
      "source": [
        " df.tail(3) # 後ろから３行を表示"
      ],
      "execution_count": 0,
      "outputs": [
        {
          "output_type": "execute_result",
          "data": {
            "text/html": [
              "<div>\n",
              "<style scoped>\n",
              "    .dataframe tbody tr th:only-of-type {\n",
              "        vertical-align: middle;\n",
              "    }\n",
              "\n",
              "    .dataframe tbody tr th {\n",
              "        vertical-align: top;\n",
              "    }\n",
              "\n",
              "    .dataframe thead th {\n",
              "        text-align: right;\n",
              "    }\n",
              "</style>\n",
              "<table border=\"1\" class=\"dataframe\">\n",
              "  <thead>\n",
              "    <tr style=\"text-align: right;\">\n",
              "      <th></th>\n",
              "      <th>A</th>\n",
              "      <th>B</th>\n",
              "      <th>C</th>\n",
              "      <th>D</th>\n",
              "    </tr>\n",
              "  </thead>\n",
              "  <tbody>\n",
              "    <tr>\n",
              "      <th>2018-01-05</th>\n",
              "      <td>0.909783</td>\n",
              "      <td>0.942796</td>\n",
              "      <td>-0.847710</td>\n",
              "      <td>-0.597742</td>\n",
              "    </tr>\n",
              "    <tr>\n",
              "      <th>2018-01-06</th>\n",
              "      <td>-0.478062</td>\n",
              "      <td>0.822638</td>\n",
              "      <td>0.068093</td>\n",
              "      <td>-0.178289</td>\n",
              "    </tr>\n",
              "    <tr>\n",
              "      <th>2018-01-07</th>\n",
              "      <td>0.586064</td>\n",
              "      <td>-1.420183</td>\n",
              "      <td>-0.828318</td>\n",
              "      <td>0.615101</td>\n",
              "    </tr>\n",
              "  </tbody>\n",
              "</table>\n",
              "</div>"
            ],
            "text/plain": [
              "                   A         B         C         D\n",
              "2018-01-05  0.909783  0.942796 -0.847710 -0.597742\n",
              "2018-01-06 -0.478062  0.822638  0.068093 -0.178289\n",
              "2018-01-07  0.586064 -1.420183 -0.828318  0.615101"
            ]
          },
          "metadata": {
            "tags": []
          },
          "execution_count": 105
        }
      ]
    },
    {
      "cell_type": "code",
      "metadata": {
        "id": "X_ktBaJfCP3T",
        "colab_type": "code",
        "outputId": "d1480895-ba88-4431-bbbb-9acc16855c5c",
        "colab": {
          "base_uri": "https://localhost:8080/",
          "height": 70
        }
      },
      "source": [
        "df.index # インデックスを表示"
      ],
      "execution_count": 0,
      "outputs": [
        {
          "output_type": "execute_result",
          "data": {
            "text/plain": [
              "DatetimeIndex(['2018-01-01', '2018-01-02', '2018-01-03', '2018-01-04',\n",
              "               '2018-01-05', '2018-01-06', '2018-01-07'],\n",
              "              dtype='datetime64[ns]', freq='D')"
            ]
          },
          "metadata": {
            "tags": []
          },
          "execution_count": 106
        }
      ]
    },
    {
      "cell_type": "code",
      "metadata": {
        "id": "HhJr6lGGCP3W",
        "colab_type": "code",
        "outputId": "cfd2ddfd-5aa3-4577-db8f-3e371531b4b1",
        "colab": {
          "base_uri": "https://localhost:8080/",
          "height": 34
        }
      },
      "source": [
        "df.columns # 列名を表示"
      ],
      "execution_count": 0,
      "outputs": [
        {
          "output_type": "execute_result",
          "data": {
            "text/plain": [
              "Index(['A', 'B', 'C', 'D'], dtype='object')"
            ]
          },
          "metadata": {
            "tags": []
          },
          "execution_count": 107
        }
      ]
    },
    {
      "cell_type": "code",
      "metadata": {
        "id": "v7426C8jCP3X",
        "colab_type": "code",
        "outputId": "120a1068-4dda-4297-97f8-6a86f9d78215",
        "colab": {
          "base_uri": "https://localhost:8080/",
          "height": 140
        }
      },
      "source": [
        "df.values # 値を表示"
      ],
      "execution_count": 0,
      "outputs": [
        {
          "output_type": "execute_result",
          "data": {
            "text/plain": [
              "array([[ 0.45771946,  1.49282702,  0.19317719,  0.48388398],\n",
              "       [ 1.78486583, -1.83021036,  0.96567875,  1.33661134],\n",
              "       [ 0.29192416, -1.03713027,  1.24258717, -0.94785334],\n",
              "       [ 0.07553388,  0.10893879, -0.03889507, -1.61730684],\n",
              "       [ 0.90978262,  0.94279565, -0.84771007, -0.59774173],\n",
              "       [-0.47806233,  0.82263802,  0.06809262, -0.17828895],\n",
              "       [ 0.58606405, -1.42018255, -0.82831803,  0.61510051]])"
            ]
          },
          "metadata": {
            "tags": []
          },
          "execution_count": 108
        }
      ]
    },
    {
      "cell_type": "code",
      "metadata": {
        "id": "NhpKuWfeCP3Y",
        "colab_type": "code",
        "outputId": "939c8263-4644-4b9b-d3ec-08e3cad1e1f4",
        "colab": {
          "base_uri": "https://localhost:8080/",
          "height": 284
        }
      },
      "source": [
        "df.describe() # 要約統計量の表示"
      ],
      "execution_count": 0,
      "outputs": [
        {
          "output_type": "execute_result",
          "data": {
            "text/html": [
              "<div>\n",
              "<style scoped>\n",
              "    .dataframe tbody tr th:only-of-type {\n",
              "        vertical-align: middle;\n",
              "    }\n",
              "\n",
              "    .dataframe tbody tr th {\n",
              "        vertical-align: top;\n",
              "    }\n",
              "\n",
              "    .dataframe thead th {\n",
              "        text-align: right;\n",
              "    }\n",
              "</style>\n",
              "<table border=\"1\" class=\"dataframe\">\n",
              "  <thead>\n",
              "    <tr style=\"text-align: right;\">\n",
              "      <th></th>\n",
              "      <th>A</th>\n",
              "      <th>B</th>\n",
              "      <th>C</th>\n",
              "      <th>D</th>\n",
              "    </tr>\n",
              "  </thead>\n",
              "  <tbody>\n",
              "    <tr>\n",
              "      <th>count</th>\n",
              "      <td>7.000000</td>\n",
              "      <td>7.000000</td>\n",
              "      <td>7.000000</td>\n",
              "      <td>7.000000</td>\n",
              "    </tr>\n",
              "    <tr>\n",
              "      <th>mean</th>\n",
              "      <td>0.518261</td>\n",
              "      <td>-0.131475</td>\n",
              "      <td>0.107802</td>\n",
              "      <td>-0.129371</td>\n",
              "    </tr>\n",
              "    <tr>\n",
              "      <th>std</th>\n",
              "      <td>0.707782</td>\n",
              "      <td>1.299181</td>\n",
              "      <td>0.800354</td>\n",
              "      <td>1.015304</td>\n",
              "    </tr>\n",
              "    <tr>\n",
              "      <th>min</th>\n",
              "      <td>-0.478062</td>\n",
              "      <td>-1.830210</td>\n",
              "      <td>-0.847710</td>\n",
              "      <td>-1.617307</td>\n",
              "    </tr>\n",
              "    <tr>\n",
              "      <th>25%</th>\n",
              "      <td>0.183729</td>\n",
              "      <td>-1.228656</td>\n",
              "      <td>-0.433607</td>\n",
              "      <td>-0.772798</td>\n",
              "    </tr>\n",
              "    <tr>\n",
              "      <th>50%</th>\n",
              "      <td>0.457719</td>\n",
              "      <td>0.108939</td>\n",
              "      <td>0.068093</td>\n",
              "      <td>-0.178289</td>\n",
              "    </tr>\n",
              "    <tr>\n",
              "      <th>75%</th>\n",
              "      <td>0.747923</td>\n",
              "      <td>0.882717</td>\n",
              "      <td>0.579428</td>\n",
              "      <td>0.549492</td>\n",
              "    </tr>\n",
              "    <tr>\n",
              "      <th>max</th>\n",
              "      <td>1.784866</td>\n",
              "      <td>1.492827</td>\n",
              "      <td>1.242587</td>\n",
              "      <td>1.336611</td>\n",
              "    </tr>\n",
              "  </tbody>\n",
              "</table>\n",
              "</div>"
            ],
            "text/plain": [
              "              A         B         C         D\n",
              "count  7.000000  7.000000  7.000000  7.000000\n",
              "mean   0.518261 -0.131475  0.107802 -0.129371\n",
              "std    0.707782  1.299181  0.800354  1.015304\n",
              "min   -0.478062 -1.830210 -0.847710 -1.617307\n",
              "25%    0.183729 -1.228656 -0.433607 -0.772798\n",
              "50%    0.457719  0.108939  0.068093 -0.178289\n",
              "75%    0.747923  0.882717  0.579428  0.549492\n",
              "max    1.784866  1.492827  1.242587  1.336611"
            ]
          },
          "metadata": {
            "tags": []
          },
          "execution_count": 109
        }
      ]
    },
    {
      "cell_type": "code",
      "metadata": {
        "id": "mH_TgNR8CP3Z",
        "colab_type": "code",
        "outputId": "cffaad15-8f30-40f6-d5bb-d756c9d66be8",
        "colab": {
          "base_uri": "https://localhost:8080/",
          "height": 182
        }
      },
      "source": [
        "df.T # データの転置"
      ],
      "execution_count": 0,
      "outputs": [
        {
          "output_type": "execute_result",
          "data": {
            "text/html": [
              "<div>\n",
              "<style scoped>\n",
              "    .dataframe tbody tr th:only-of-type {\n",
              "        vertical-align: middle;\n",
              "    }\n",
              "\n",
              "    .dataframe tbody tr th {\n",
              "        vertical-align: top;\n",
              "    }\n",
              "\n",
              "    .dataframe thead th {\n",
              "        text-align: right;\n",
              "    }\n",
              "</style>\n",
              "<table border=\"1\" class=\"dataframe\">\n",
              "  <thead>\n",
              "    <tr style=\"text-align: right;\">\n",
              "      <th></th>\n",
              "      <th>2018-01-01 00:00:00</th>\n",
              "      <th>2018-01-02 00:00:00</th>\n",
              "      <th>2018-01-03 00:00:00</th>\n",
              "      <th>2018-01-04 00:00:00</th>\n",
              "      <th>2018-01-05 00:00:00</th>\n",
              "      <th>2018-01-06 00:00:00</th>\n",
              "      <th>2018-01-07 00:00:00</th>\n",
              "    </tr>\n",
              "  </thead>\n",
              "  <tbody>\n",
              "    <tr>\n",
              "      <th>A</th>\n",
              "      <td>0.457719</td>\n",
              "      <td>1.784866</td>\n",
              "      <td>0.291924</td>\n",
              "      <td>0.075534</td>\n",
              "      <td>0.909783</td>\n",
              "      <td>-0.478062</td>\n",
              "      <td>0.586064</td>\n",
              "    </tr>\n",
              "    <tr>\n",
              "      <th>B</th>\n",
              "      <td>1.492827</td>\n",
              "      <td>-1.830210</td>\n",
              "      <td>-1.037130</td>\n",
              "      <td>0.108939</td>\n",
              "      <td>0.942796</td>\n",
              "      <td>0.822638</td>\n",
              "      <td>-1.420183</td>\n",
              "    </tr>\n",
              "    <tr>\n",
              "      <th>C</th>\n",
              "      <td>0.193177</td>\n",
              "      <td>0.965679</td>\n",
              "      <td>1.242587</td>\n",
              "      <td>-0.038895</td>\n",
              "      <td>-0.847710</td>\n",
              "      <td>0.068093</td>\n",
              "      <td>-0.828318</td>\n",
              "    </tr>\n",
              "    <tr>\n",
              "      <th>D</th>\n",
              "      <td>0.483884</td>\n",
              "      <td>1.336611</td>\n",
              "      <td>-0.947853</td>\n",
              "      <td>-1.617307</td>\n",
              "      <td>-0.597742</td>\n",
              "      <td>-0.178289</td>\n",
              "      <td>0.615101</td>\n",
              "    </tr>\n",
              "  </tbody>\n",
              "</table>\n",
              "</div>"
            ],
            "text/plain": [
              "   2018-01-01  2018-01-02  2018-01-03  2018-01-04  2018-01-05  2018-01-06  \\\n",
              "A    0.457719    1.784866    0.291924    0.075534    0.909783   -0.478062   \n",
              "B    1.492827   -1.830210   -1.037130    0.108939    0.942796    0.822638   \n",
              "C    0.193177    0.965679    1.242587   -0.038895   -0.847710    0.068093   \n",
              "D    0.483884    1.336611   -0.947853   -1.617307   -0.597742   -0.178289   \n",
              "\n",
              "   2018-01-07  \n",
              "A    0.586064  \n",
              "B   -1.420183  \n",
              "C   -0.828318  \n",
              "D    0.615101  "
            ]
          },
          "metadata": {
            "tags": []
          },
          "execution_count": 110
        }
      ]
    },
    {
      "cell_type": "code",
      "metadata": {
        "id": "JhLIaeWBCP3c",
        "colab_type": "code",
        "outputId": "84fc4fe7-9ce2-4828-cf34-2a4e1976f6de",
        "colab": {
          "base_uri": "https://localhost:8080/",
          "height": 254
        }
      },
      "source": [
        "df.sort_index(axis=1, ascending=False) # 軸によるソート"
      ],
      "execution_count": 0,
      "outputs": [
        {
          "output_type": "execute_result",
          "data": {
            "text/html": [
              "<div>\n",
              "<style scoped>\n",
              "    .dataframe tbody tr th:only-of-type {\n",
              "        vertical-align: middle;\n",
              "    }\n",
              "\n",
              "    .dataframe tbody tr th {\n",
              "        vertical-align: top;\n",
              "    }\n",
              "\n",
              "    .dataframe thead th {\n",
              "        text-align: right;\n",
              "    }\n",
              "</style>\n",
              "<table border=\"1\" class=\"dataframe\">\n",
              "  <thead>\n",
              "    <tr style=\"text-align: right;\">\n",
              "      <th></th>\n",
              "      <th>D</th>\n",
              "      <th>C</th>\n",
              "      <th>B</th>\n",
              "      <th>A</th>\n",
              "    </tr>\n",
              "  </thead>\n",
              "  <tbody>\n",
              "    <tr>\n",
              "      <th>2018-01-01</th>\n",
              "      <td>0.483884</td>\n",
              "      <td>0.193177</td>\n",
              "      <td>1.492827</td>\n",
              "      <td>0.457719</td>\n",
              "    </tr>\n",
              "    <tr>\n",
              "      <th>2018-01-02</th>\n",
              "      <td>1.336611</td>\n",
              "      <td>0.965679</td>\n",
              "      <td>-1.830210</td>\n",
              "      <td>1.784866</td>\n",
              "    </tr>\n",
              "    <tr>\n",
              "      <th>2018-01-03</th>\n",
              "      <td>-0.947853</td>\n",
              "      <td>1.242587</td>\n",
              "      <td>-1.037130</td>\n",
              "      <td>0.291924</td>\n",
              "    </tr>\n",
              "    <tr>\n",
              "      <th>2018-01-04</th>\n",
              "      <td>-1.617307</td>\n",
              "      <td>-0.038895</td>\n",
              "      <td>0.108939</td>\n",
              "      <td>0.075534</td>\n",
              "    </tr>\n",
              "    <tr>\n",
              "      <th>2018-01-05</th>\n",
              "      <td>-0.597742</td>\n",
              "      <td>-0.847710</td>\n",
              "      <td>0.942796</td>\n",
              "      <td>0.909783</td>\n",
              "    </tr>\n",
              "    <tr>\n",
              "      <th>2018-01-06</th>\n",
              "      <td>-0.178289</td>\n",
              "      <td>0.068093</td>\n",
              "      <td>0.822638</td>\n",
              "      <td>-0.478062</td>\n",
              "    </tr>\n",
              "    <tr>\n",
              "      <th>2018-01-07</th>\n",
              "      <td>0.615101</td>\n",
              "      <td>-0.828318</td>\n",
              "      <td>-1.420183</td>\n",
              "      <td>0.586064</td>\n",
              "    </tr>\n",
              "  </tbody>\n",
              "</table>\n",
              "</div>"
            ],
            "text/plain": [
              "                   D         C         B         A\n",
              "2018-01-01  0.483884  0.193177  1.492827  0.457719\n",
              "2018-01-02  1.336611  0.965679 -1.830210  1.784866\n",
              "2018-01-03 -0.947853  1.242587 -1.037130  0.291924\n",
              "2018-01-04 -1.617307 -0.038895  0.108939  0.075534\n",
              "2018-01-05 -0.597742 -0.847710  0.942796  0.909783\n",
              "2018-01-06 -0.178289  0.068093  0.822638 -0.478062\n",
              "2018-01-07  0.615101 -0.828318 -1.420183  0.586064"
            ]
          },
          "metadata": {
            "tags": []
          },
          "execution_count": 111
        }
      ]
    },
    {
      "cell_type": "code",
      "metadata": {
        "id": "K8hyMxp6CP3e",
        "colab_type": "code",
        "outputId": "b920797e-2670-48f8-a17f-c29d4fecf9f2",
        "colab": {
          "base_uri": "https://localhost:8080/",
          "height": 254
        }
      },
      "source": [
        "df.sort_values(by='B') # 値によるソート"
      ],
      "execution_count": 0,
      "outputs": [
        {
          "output_type": "execute_result",
          "data": {
            "text/html": [
              "<div>\n",
              "<style scoped>\n",
              "    .dataframe tbody tr th:only-of-type {\n",
              "        vertical-align: middle;\n",
              "    }\n",
              "\n",
              "    .dataframe tbody tr th {\n",
              "        vertical-align: top;\n",
              "    }\n",
              "\n",
              "    .dataframe thead th {\n",
              "        text-align: right;\n",
              "    }\n",
              "</style>\n",
              "<table border=\"1\" class=\"dataframe\">\n",
              "  <thead>\n",
              "    <tr style=\"text-align: right;\">\n",
              "      <th></th>\n",
              "      <th>A</th>\n",
              "      <th>B</th>\n",
              "      <th>C</th>\n",
              "      <th>D</th>\n",
              "    </tr>\n",
              "  </thead>\n",
              "  <tbody>\n",
              "    <tr>\n",
              "      <th>2018-01-02</th>\n",
              "      <td>1.784866</td>\n",
              "      <td>-1.830210</td>\n",
              "      <td>0.965679</td>\n",
              "      <td>1.336611</td>\n",
              "    </tr>\n",
              "    <tr>\n",
              "      <th>2018-01-07</th>\n",
              "      <td>0.586064</td>\n",
              "      <td>-1.420183</td>\n",
              "      <td>-0.828318</td>\n",
              "      <td>0.615101</td>\n",
              "    </tr>\n",
              "    <tr>\n",
              "      <th>2018-01-03</th>\n",
              "      <td>0.291924</td>\n",
              "      <td>-1.037130</td>\n",
              "      <td>1.242587</td>\n",
              "      <td>-0.947853</td>\n",
              "    </tr>\n",
              "    <tr>\n",
              "      <th>2018-01-04</th>\n",
              "      <td>0.075534</td>\n",
              "      <td>0.108939</td>\n",
              "      <td>-0.038895</td>\n",
              "      <td>-1.617307</td>\n",
              "    </tr>\n",
              "    <tr>\n",
              "      <th>2018-01-06</th>\n",
              "      <td>-0.478062</td>\n",
              "      <td>0.822638</td>\n",
              "      <td>0.068093</td>\n",
              "      <td>-0.178289</td>\n",
              "    </tr>\n",
              "    <tr>\n",
              "      <th>2018-01-05</th>\n",
              "      <td>0.909783</td>\n",
              "      <td>0.942796</td>\n",
              "      <td>-0.847710</td>\n",
              "      <td>-0.597742</td>\n",
              "    </tr>\n",
              "    <tr>\n",
              "      <th>2018-01-01</th>\n",
              "      <td>0.457719</td>\n",
              "      <td>1.492827</td>\n",
              "      <td>0.193177</td>\n",
              "      <td>0.483884</td>\n",
              "    </tr>\n",
              "  </tbody>\n",
              "</table>\n",
              "</div>"
            ],
            "text/plain": [
              "                   A         B         C         D\n",
              "2018-01-02  1.784866 -1.830210  0.965679  1.336611\n",
              "2018-01-07  0.586064 -1.420183 -0.828318  0.615101\n",
              "2018-01-03  0.291924 -1.037130  1.242587 -0.947853\n",
              "2018-01-04  0.075534  0.108939 -0.038895 -1.617307\n",
              "2018-01-06 -0.478062  0.822638  0.068093 -0.178289\n",
              "2018-01-05  0.909783  0.942796 -0.847710 -0.597742\n",
              "2018-01-01  0.457719  1.492827  0.193177  0.483884"
            ]
          },
          "metadata": {
            "tags": []
          },
          "execution_count": 112
        }
      ]
    },
    {
      "cell_type": "code",
      "metadata": {
        "id": "XKeIYM8UCP3f",
        "colab_type": "code",
        "outputId": "270002e8-ec82-45d2-be15-d0a027424e19",
        "colab": {
          "base_uri": "https://localhost:8080/",
          "height": 158
        }
      },
      "source": [
        "df['A'] # データの取得"
      ],
      "execution_count": 0,
      "outputs": [
        {
          "output_type": "execute_result",
          "data": {
            "text/plain": [
              "2018-01-01    0.457719\n",
              "2018-01-02    1.784866\n",
              "2018-01-03    0.291924\n",
              "2018-01-04    0.075534\n",
              "2018-01-05    0.909783\n",
              "2018-01-06   -0.478062\n",
              "2018-01-07    0.586064\n",
              "Freq: D, Name: A, dtype: float64"
            ]
          },
          "metadata": {
            "tags": []
          },
          "execution_count": 113
        }
      ]
    },
    {
      "cell_type": "code",
      "metadata": {
        "id": "kD3nXsonCP3h",
        "colab_type": "code",
        "outputId": "e4f17095-80fd-4a38-99b8-8e5de4dd5035",
        "colab": {
          "base_uri": "https://localhost:8080/",
          "height": 225
        }
      },
      "source": [
        "df[df.A > 0] # ブーリアンを使用したデータの取得"
      ],
      "execution_count": 0,
      "outputs": [
        {
          "output_type": "execute_result",
          "data": {
            "text/html": [
              "<div>\n",
              "<style scoped>\n",
              "    .dataframe tbody tr th:only-of-type {\n",
              "        vertical-align: middle;\n",
              "    }\n",
              "\n",
              "    .dataframe tbody tr th {\n",
              "        vertical-align: top;\n",
              "    }\n",
              "\n",
              "    .dataframe thead th {\n",
              "        text-align: right;\n",
              "    }\n",
              "</style>\n",
              "<table border=\"1\" class=\"dataframe\">\n",
              "  <thead>\n",
              "    <tr style=\"text-align: right;\">\n",
              "      <th></th>\n",
              "      <th>A</th>\n",
              "      <th>B</th>\n",
              "      <th>C</th>\n",
              "      <th>D</th>\n",
              "    </tr>\n",
              "  </thead>\n",
              "  <tbody>\n",
              "    <tr>\n",
              "      <th>2018-01-01</th>\n",
              "      <td>0.457719</td>\n",
              "      <td>1.492827</td>\n",
              "      <td>0.193177</td>\n",
              "      <td>0.483884</td>\n",
              "    </tr>\n",
              "    <tr>\n",
              "      <th>2018-01-02</th>\n",
              "      <td>1.784866</td>\n",
              "      <td>-1.830210</td>\n",
              "      <td>0.965679</td>\n",
              "      <td>1.336611</td>\n",
              "    </tr>\n",
              "    <tr>\n",
              "      <th>2018-01-03</th>\n",
              "      <td>0.291924</td>\n",
              "      <td>-1.037130</td>\n",
              "      <td>1.242587</td>\n",
              "      <td>-0.947853</td>\n",
              "    </tr>\n",
              "    <tr>\n",
              "      <th>2018-01-04</th>\n",
              "      <td>0.075534</td>\n",
              "      <td>0.108939</td>\n",
              "      <td>-0.038895</td>\n",
              "      <td>-1.617307</td>\n",
              "    </tr>\n",
              "    <tr>\n",
              "      <th>2018-01-05</th>\n",
              "      <td>0.909783</td>\n",
              "      <td>0.942796</td>\n",
              "      <td>-0.847710</td>\n",
              "      <td>-0.597742</td>\n",
              "    </tr>\n",
              "    <tr>\n",
              "      <th>2018-01-07</th>\n",
              "      <td>0.586064</td>\n",
              "      <td>-1.420183</td>\n",
              "      <td>-0.828318</td>\n",
              "      <td>0.615101</td>\n",
              "    </tr>\n",
              "  </tbody>\n",
              "</table>\n",
              "</div>"
            ],
            "text/plain": [
              "                   A         B         C         D\n",
              "2018-01-01  0.457719  1.492827  0.193177  0.483884\n",
              "2018-01-02  1.784866 -1.830210  0.965679  1.336611\n",
              "2018-01-03  0.291924 -1.037130  1.242587 -0.947853\n",
              "2018-01-04  0.075534  0.108939 -0.038895 -1.617307\n",
              "2018-01-05  0.909783  0.942796 -0.847710 -0.597742\n",
              "2018-01-07  0.586064 -1.420183 -0.828318  0.615101"
            ]
          },
          "metadata": {
            "tags": []
          },
          "execution_count": 114
        }
      ]
    },
    {
      "cell_type": "code",
      "metadata": {
        "id": "GPSKyiFpCP3j",
        "colab_type": "code",
        "colab": {}
      },
      "source": [
        "df.to_csv('data/foo.csv') # CSVファイルへの書き込み"
      ],
      "execution_count": 0,
      "outputs": []
    },
    {
      "cell_type": "code",
      "metadata": {
        "id": "t36H2VV-CP3j",
        "colab_type": "code",
        "outputId": "7e55a269-15c5-49bc-86da-2a7284460dbe",
        "colab": {
          "base_uri": "https://localhost:8080/",
          "height": 254
        }
      },
      "source": [
        "pd.read_csv('data/foo.csv') # CSVファイルからの読み込み"
      ],
      "execution_count": 0,
      "outputs": [
        {
          "output_type": "execute_result",
          "data": {
            "text/html": [
              "<div>\n",
              "<style scoped>\n",
              "    .dataframe tbody tr th:only-of-type {\n",
              "        vertical-align: middle;\n",
              "    }\n",
              "\n",
              "    .dataframe tbody tr th {\n",
              "        vertical-align: top;\n",
              "    }\n",
              "\n",
              "    .dataframe thead th {\n",
              "        text-align: right;\n",
              "    }\n",
              "</style>\n",
              "<table border=\"1\" class=\"dataframe\">\n",
              "  <thead>\n",
              "    <tr style=\"text-align: right;\">\n",
              "      <th></th>\n",
              "      <th>Unnamed: 0</th>\n",
              "      <th>A</th>\n",
              "      <th>B</th>\n",
              "      <th>C</th>\n",
              "      <th>D</th>\n",
              "    </tr>\n",
              "  </thead>\n",
              "  <tbody>\n",
              "    <tr>\n",
              "      <th>0</th>\n",
              "      <td>2018-01-01</td>\n",
              "      <td>0.457719</td>\n",
              "      <td>1.492827</td>\n",
              "      <td>0.193177</td>\n",
              "      <td>0.483884</td>\n",
              "    </tr>\n",
              "    <tr>\n",
              "      <th>1</th>\n",
              "      <td>2018-01-02</td>\n",
              "      <td>1.784866</td>\n",
              "      <td>-1.830210</td>\n",
              "      <td>0.965679</td>\n",
              "      <td>1.336611</td>\n",
              "    </tr>\n",
              "    <tr>\n",
              "      <th>2</th>\n",
              "      <td>2018-01-03</td>\n",
              "      <td>0.291924</td>\n",
              "      <td>-1.037130</td>\n",
              "      <td>1.242587</td>\n",
              "      <td>-0.947853</td>\n",
              "    </tr>\n",
              "    <tr>\n",
              "      <th>3</th>\n",
              "      <td>2018-01-04</td>\n",
              "      <td>0.075534</td>\n",
              "      <td>0.108939</td>\n",
              "      <td>-0.038895</td>\n",
              "      <td>-1.617307</td>\n",
              "    </tr>\n",
              "    <tr>\n",
              "      <th>4</th>\n",
              "      <td>2018-01-05</td>\n",
              "      <td>0.909783</td>\n",
              "      <td>0.942796</td>\n",
              "      <td>-0.847710</td>\n",
              "      <td>-0.597742</td>\n",
              "    </tr>\n",
              "    <tr>\n",
              "      <th>5</th>\n",
              "      <td>2018-01-06</td>\n",
              "      <td>-0.478062</td>\n",
              "      <td>0.822638</td>\n",
              "      <td>0.068093</td>\n",
              "      <td>-0.178289</td>\n",
              "    </tr>\n",
              "    <tr>\n",
              "      <th>6</th>\n",
              "      <td>2018-01-07</td>\n",
              "      <td>0.586064</td>\n",
              "      <td>-1.420183</td>\n",
              "      <td>-0.828318</td>\n",
              "      <td>0.615101</td>\n",
              "    </tr>\n",
              "  </tbody>\n",
              "</table>\n",
              "</div>"
            ],
            "text/plain": [
              "   Unnamed: 0         A         B         C         D\n",
              "0  2018-01-01  0.457719  1.492827  0.193177  0.483884\n",
              "1  2018-01-02  1.784866 -1.830210  0.965679  1.336611\n",
              "2  2018-01-03  0.291924 -1.037130  1.242587 -0.947853\n",
              "3  2018-01-04  0.075534  0.108939 -0.038895 -1.617307\n",
              "4  2018-01-05  0.909783  0.942796 -0.847710 -0.597742\n",
              "5  2018-01-06 -0.478062  0.822638  0.068093 -0.178289\n",
              "6  2018-01-07  0.586064 -1.420183 -0.828318  0.615101"
            ]
          },
          "metadata": {
            "tags": []
          },
          "execution_count": 116
        }
      ]
    }
  ]
}